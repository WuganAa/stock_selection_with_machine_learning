{
 "cells": [
  {
   "cell_type": "code",
   "execution_count": 124,
   "metadata": {},
   "outputs": [],
   "source": [
    "from model import *\n",
    "import os"
   ]
  },
  {
   "cell_type": "code",
   "execution_count": 122,
   "metadata": {},
   "outputs": [],
   "source": [
    "modelList = {\n",
    "    'dnn': DNN,\n",
    "    'lr': LogisticRegression,\n",
    "    'svm': SupportVectorMachine,\n",
    "    'nb': NaiveBeyes,\n",
    "    'rf': RandomForest,\n",
    "    'gbm': GradientBoostingMachine,\n",
    "    'bag': Bagging,\n",
    "    'et': ExtraTrees,\n",
    "    'ada': AdaBoost,\n",
    "    'exs': EnsembleXgbStack\n",
    "}"
   ]
  },
  {
   "cell_type": "code",
   "execution_count": 127,
   "metadata": {},
   "outputs": [],
   "source": [
    "fpath = \"F:\\\\DeepLearning\\\\Model\\\\20181004-214808\\\\beforeGA\""
   ]
  },
  {
   "cell_type": "code",
   "execution_count": 202,
   "metadata": {},
   "outputs": [],
   "source": [
    "modelname = 'exs'"
   ]
  },
  {
   "cell_type": "code",
   "execution_count": 203,
   "metadata": {},
   "outputs": [],
   "source": [
    "model = modelList[modelname](fpath = os.path.join(fpath, modelname.upper()))"
   ]
  },
  {
   "cell_type": "code",
   "execution_count": 204,
   "metadata": {},
   "outputs": [
    {
     "data": {
      "text/plain": [
       "XGBRegressor(base_score=0.5, booster='gbtree', colsample_bylevel=1,\n",
       "       colsample_bytree=1, gamma=0, learning_rate=0.5, max_delta_step=0,\n",
       "       max_depth=7, min_child_weight=1, missing=nan, n_estimators=500,\n",
       "       n_jobs=1, nthread=None, objective='reg:logistic', random_state=0,\n",
       "       reg_alpha=0, reg_lambda=1, scale_pos_weight=1, seed=None,\n",
       "       silent=True, subsample=1)"
      ]
     },
     "execution_count": 204,
     "metadata": {},
     "output_type": "execute_result"
    }
   ],
   "source": [
    "model.model"
   ]
  },
  {
   "cell_type": "code",
   "execution_count": 182,
   "metadata": {},
   "outputs": [
    {
     "data": {
      "text/plain": [
       "array([[-1., -1., -1., ...,  1.,  1.,  1.]])"
      ]
     },
     "execution_count": 182,
     "metadata": {},
     "output_type": "execute_result"
    }
   ],
   "source": [
    "model.model.dual_coef_ "
   ]
  },
  {
   "cell_type": "code",
   "execution_count": null,
   "metadata": {},
   "outputs": [],
   "source": []
  },
  {
   "cell_type": "code",
   "execution_count": null,
   "metadata": {},
   "outputs": [],
   "source": []
  },
  {
   "cell_type": "code",
   "execution_count": null,
   "metadata": {},
   "outputs": [],
   "source": [
    "for modelname in modelList.keys():\n",
    "    model = modelList[modelname](fpath = os.path.join(fpath, modelname.upper()))"
   ]
  },
  {
   "cell_type": "code",
   "execution_count": null,
   "metadata": {},
   "outputs": [],
   "source": []
  },
  {
   "cell_type": "code",
   "execution_count": null,
   "metadata": {},
   "outputs": [],
   "source": []
  },
  {
   "cell_type": "code",
   "execution_count": null,
   "metadata": {},
   "outputs": [],
   "source": []
  },
  {
   "cell_type": "code",
   "execution_count": 92,
   "metadata": {},
   "outputs": [],
   "source": [
    "import numpy as np\n",
    "import pandas as pd\n",
    "from datetime import datetime\n",
    "import os\n",
    "import pickle as pkl"
   ]
  },
  {
   "cell_type": "code",
   "execution_count": 93,
   "metadata": {},
   "outputs": [],
   "source": [
    "probasresultspath = os.path.join(\"F:\\\\DeepLearning\\\\Model\\\\20181004-214808\\\\results_from_probas\")\n",
    "boolresultspath = os.path.join(\"F:\\\\DeepLearning\\\\Model\\\\20181004-214808\\\\results_from_bool\")\n",
    "avgresultspath = os.path.join(\"F:\\\\DeepLearning\\\\Model\\\\20181004-214808\\\\results_avg\")"
   ]
  },
  {
   "cell_type": "code",
   "execution_count": 94,
   "metadata": {},
   "outputs": [],
   "source": [
    "GAtypeList = ['beforeGA', 'afterGA']\n",
    "frequencyList = [3, 5, 7, 10, 12, 15, 18, 20, 25, 30]\n",
    "modelList = ['LR', 'RF', 'SVM', 'DNN', 'NB', 'GBM', 'BAG', 'ET', 'ADA', 'EXS']"
   ]
  },
  {
   "cell_type": "code",
   "execution_count": 95,
   "metadata": {},
   "outputs": [],
   "source": [
    "avgresults = pd.DataFrame(columns=['tot_return', 'annual_return', 'cagr', 'max_drawdown', 'sharpe', 'sortino', 'IR'])\n",
    "for GAtype in GAtypeList:\n",
    "    for modelname in modelList:\n",
    "        saveresultspath = os.path.join(avgresultspath, modelname)\n",
    "        for frequency in frequencyList:\n",
    "            pngname = \"AVG_\" + GAtype + \"_\" + modelname + \"_\" + str(frequency) + \"days\"\n",
    "            try:\n",
    "                with open(os.path.join(saveresultspath, pngname + \".pkl\"), \"rb\") as file:\n",
    "                    result = pkl.load(file)\n",
    "                avgresults.loc[pngname] = [\n",
    "                    result['tot_return'],\n",
    "                    result['annual_return'],\n",
    "                    result['cagr'],\n",
    "                    result['max_drawdown'],\n",
    "                    result['sharpe'],\n",
    "                    result['sortino'],\n",
    "                    result['IR']\n",
    "                    ]\n",
    "            except:\n",
    "                pass"
   ]
  },
  {
   "cell_type": "code",
   "execution_count": 96,
   "metadata": {},
   "outputs": [
    {
     "data": {
      "text/plain": [
       "(200, 7)"
      ]
     },
     "execution_count": 96,
     "metadata": {},
     "output_type": "execute_result"
    }
   ],
   "source": [
    "avgresults.shape"
   ]
  },
  {
   "cell_type": "code",
   "execution_count": 97,
   "metadata": {},
   "outputs": [],
   "source": [
    "probasresults = pd.DataFrame(columns=['tot_return', 'annual_return', 'cagr', 'max_drawdown', 'sharpe', 'sortino', 'IR'])\n",
    "for GAtype in GAtypeList:\n",
    "    for modelname in modelList:\n",
    "        saveresultspath = os.path.join(probasresultspath, modelname)\n",
    "        for frequency in frequencyList:\n",
    "            pngname = \"BL_\" + GAtype + \"_\" + modelname + \"_\" + str(frequency) + \"days\"\n",
    "            try:\n",
    "                with open(os.path.join(saveresultspath, pngname + \".pkl\"), \"rb\") as file:\n",
    "                    result = pkl.load(file)\n",
    "                probasresults.loc[pngname] = [\n",
    "                    result['tot_return'],\n",
    "                    result['annual_return'],\n",
    "                    result['cagr'],\n",
    "                    result['max_drawdown'],\n",
    "                    result['sharpe'],\n",
    "                    result['sortino'],\n",
    "                    result['IR']\n",
    "                    ]\n",
    "            except:\n",
    "                pass"
   ]
  },
  {
   "cell_type": "code",
   "execution_count": 98,
   "metadata": {},
   "outputs": [
    {
     "data": {
      "text/plain": [
       "(200, 7)"
      ]
     },
     "execution_count": 98,
     "metadata": {},
     "output_type": "execute_result"
    }
   ],
   "source": [
    "probasresults.shape"
   ]
  },
  {
   "cell_type": "code",
   "execution_count": 99,
   "metadata": {},
   "outputs": [],
   "source": [
    "boolresults = pd.DataFrame(columns=['tot_return', 'annual_return', 'cagr', 'max_drawdown', 'sharpe', 'sortino', 'IR'])\n",
    "for GAtype in GAtypeList:\n",
    "    for modelname in modelList:\n",
    "        saveresultspath = os.path.join(boolresultspath, modelname)\n",
    "        for frequency in frequencyList:\n",
    "            pngname = \"BL_\" + GAtype + \"_\" + modelname + \"_\" + str(frequency) + \"days\"\n",
    "            try:\n",
    "                with open(os.path.join(saveresultspath, pngname + \".pkl\"), \"rb\") as file:\n",
    "                    result = pkl.load(file)\n",
    "                boolresults.loc[pngname] = [\n",
    "                    result['tot_return'],\n",
    "                    result['annual_return'],\n",
    "                    result['cagr'],\n",
    "                    result['max_drawdown'],\n",
    "                    result['sharpe'],\n",
    "                    result['sortino'],\n",
    "                    result['IR']\n",
    "                    ]\n",
    "            except:\n",
    "                pass"
   ]
  },
  {
   "cell_type": "code",
   "execution_count": 100,
   "metadata": {},
   "outputs": [
    {
     "data": {
      "text/plain": [
       "(200, 7)"
      ]
     },
     "execution_count": 100,
     "metadata": {},
     "output_type": "execute_result"
    }
   ],
   "source": [
    "boolresults.shape"
   ]
  },
  {
   "cell_type": "code",
   "execution_count": 116,
   "metadata": {},
   "outputs": [],
   "source": [
    "probasresults['frequency'] = probasresults.index.to_series().apply(lambda x: x.split(\"_\")[-1])\n",
    "probasresults['is_GA'] = probasresults.index.to_series().apply(lambda x: x.split(\"_\")[1])\n",
    "probasresults['model'] = probasresults.index.to_series().apply(lambda x: x.split(\"_\")[2])"
   ]
  },
  {
   "cell_type": "code",
   "execution_count": 117,
   "metadata": {},
   "outputs": [],
   "source": [
    "probasresults.to_excel(probasresultspath + \".xlsx\")"
   ]
  },
  {
   "cell_type": "code",
   "execution_count": 118,
   "metadata": {},
   "outputs": [],
   "source": [
    "boolresults['frequency'] = boolresults.index.to_series().apply(lambda x: x.split(\"_\")[-1])\n",
    "boolresults['is_GA'] = boolresults.index.to_series().apply(lambda x: x.split(\"_\")[1])\n",
    "boolresults['model'] = boolresults.index.to_series().apply(lambda x: x.split(\"_\")[2])"
   ]
  },
  {
   "cell_type": "code",
   "execution_count": 119,
   "metadata": {},
   "outputs": [],
   "source": [
    "boolresults.to_excel(boolresultspath + \".xlsx\")"
   ]
  },
  {
   "cell_type": "code",
   "execution_count": null,
   "metadata": {},
   "outputs": [],
   "source": []
  },
  {
   "cell_type": "code",
   "execution_count": null,
   "metadata": {},
   "outputs": [],
   "source": []
  },
  {
   "cell_type": "code",
   "execution_count": 104,
   "metadata": {},
   "outputs": [],
   "source": [
    "tot_return = pd.concat((probasresults['tot_return'], boolresults['tot_return']), axis=1)\n",
    "tot_return.columns = ['probas', 'bool']"
   ]
  },
  {
   "cell_type": "code",
   "execution_count": null,
   "metadata": {},
   "outputs": [],
   "source": []
  },
  {
   "cell_type": "code",
   "execution_count": null,
   "metadata": {},
   "outputs": [],
   "source": []
  },
  {
   "cell_type": "code",
   "execution_count": 40,
   "metadata": {},
   "outputs": [],
   "source": [
    "results_10days = results.loc[results.index.to_series().apply(lambda x: \"_\" + str(freq) + \"days\" in x)]"
   ]
  },
  {
   "cell_type": "code",
   "execution_count": 43,
   "metadata": {},
   "outputs": [],
   "source": [
    "results_10days_after = results_10days.loc[results_10days.index.to_series().apply(lambda x: \"_afterGA\" in x)]"
   ]
  },
  {
   "cell_type": "code",
   "execution_count": 44,
   "metadata": {},
   "outputs": [],
   "source": [
    "results_10days_before = results_10days.loc[results_10days.index.to_series().apply(lambda x: \"_beforeGA\" in x)]"
   ]
  },
  {
   "cell_type": "code",
   "execution_count": 48,
   "metadata": {},
   "outputs": [
    {
     "data": {
      "text/html": [
       "<div>\n",
       "<style scoped>\n",
       "    .dataframe tbody tr th:only-of-type {\n",
       "        vertical-align: middle;\n",
       "    }\n",
       "\n",
       "    .dataframe tbody tr th {\n",
       "        vertical-align: top;\n",
       "    }\n",
       "\n",
       "    .dataframe thead th {\n",
       "        text-align: right;\n",
       "    }\n",
       "</style>\n",
       "<table border=\"1\" class=\"dataframe\">\n",
       "  <thead>\n",
       "    <tr style=\"text-align: right;\">\n",
       "      <th></th>\n",
       "      <th>tot_return</th>\n",
       "      <th>annual_return</th>\n",
       "      <th>cagr</th>\n",
       "      <th>max_drawdown</th>\n",
       "      <th>sharpe</th>\n",
       "      <th>sortino</th>\n",
       "      <th>IR</th>\n",
       "    </tr>\n",
       "  </thead>\n",
       "  <tbody>\n",
       "    <tr>\n",
       "      <th>BL_afterGA_GBM_30days</th>\n",
       "      <td>2.762287</td>\n",
       "      <td>0.502610</td>\n",
       "      <td>0.272641</td>\n",
       "      <td>0.415072</td>\n",
       "      <td>3.932865</td>\n",
       "      <td>9.939508</td>\n",
       "      <td>3.866244</td>\n",
       "    </tr>\n",
       "    <tr>\n",
       "      <th>BL_afterGA_SVM_30days</th>\n",
       "      <td>2.762210</td>\n",
       "      <td>0.502596</td>\n",
       "      <td>0.272636</td>\n",
       "      <td>0.415072</td>\n",
       "      <td>3.932820</td>\n",
       "      <td>9.939283</td>\n",
       "      <td>3.866176</td>\n",
       "    </tr>\n",
       "    <tr>\n",
       "      <th>BL_afterGA_EXS_30days</th>\n",
       "      <td>2.761169</td>\n",
       "      <td>0.502406</td>\n",
       "      <td>0.272572</td>\n",
       "      <td>0.415135</td>\n",
       "      <td>3.932116</td>\n",
       "      <td>9.935171</td>\n",
       "      <td>3.865408</td>\n",
       "    </tr>\n",
       "    <tr>\n",
       "      <th>BL_afterGA_ADA_30days</th>\n",
       "      <td>2.756652</td>\n",
       "      <td>0.501584</td>\n",
       "      <td>0.272294</td>\n",
       "      <td>0.415188</td>\n",
       "      <td>3.929456</td>\n",
       "      <td>9.929687</td>\n",
       "      <td>3.861142</td>\n",
       "    </tr>\n",
       "    <tr>\n",
       "      <th>BL_afterGA_LR_30days</th>\n",
       "      <td>2.755978</td>\n",
       "      <td>0.501462</td>\n",
       "      <td>0.272252</td>\n",
       "      <td>0.415073</td>\n",
       "      <td>3.929080</td>\n",
       "      <td>9.929968</td>\n",
       "      <td>3.860313</td>\n",
       "    </tr>\n",
       "    <tr>\n",
       "      <th>BL_afterGA_DNN_30days</th>\n",
       "      <td>2.750961</td>\n",
       "      <td>0.500549</td>\n",
       "      <td>0.271943</td>\n",
       "      <td>0.416818</td>\n",
       "      <td>3.925958</td>\n",
       "      <td>9.605297</td>\n",
       "      <td>3.855514</td>\n",
       "    </tr>\n",
       "    <tr>\n",
       "      <th>BL_afterGA_ET_30days</th>\n",
       "      <td>2.750949</td>\n",
       "      <td>0.500546</td>\n",
       "      <td>0.271942</td>\n",
       "      <td>0.416764</td>\n",
       "      <td>3.925951</td>\n",
       "      <td>9.604257</td>\n",
       "      <td>3.855614</td>\n",
       "    </tr>\n",
       "    <tr>\n",
       "      <th>BL_afterGA_BAG_30days</th>\n",
       "      <td>2.749693</td>\n",
       "      <td>0.500318</td>\n",
       "      <td>0.271865</td>\n",
       "      <td>0.416817</td>\n",
       "      <td>3.925199</td>\n",
       "      <td>9.603527</td>\n",
       "      <td>3.854348</td>\n",
       "    </tr>\n",
       "    <tr>\n",
       "      <th>BL_afterGA_RF_30days</th>\n",
       "      <td>2.745013</td>\n",
       "      <td>0.499467</td>\n",
       "      <td>0.271576</td>\n",
       "      <td>0.416817</td>\n",
       "      <td>3.922870</td>\n",
       "      <td>9.595279</td>\n",
       "      <td>3.850956</td>\n",
       "    </tr>\n",
       "    <tr>\n",
       "      <th>BL_afterGA_NB_30days</th>\n",
       "      <td>2.744889</td>\n",
       "      <td>0.499444</td>\n",
       "      <td>0.271568</td>\n",
       "      <td>0.416818</td>\n",
       "      <td>3.922304</td>\n",
       "      <td>9.596490</td>\n",
       "      <td>3.849796</td>\n",
       "    </tr>\n",
       "  </tbody>\n",
       "</table>\n",
       "</div>"
      ],
      "text/plain": [
       "                       tot_return  annual_return      cagr  max_drawdown  \\\n",
       "BL_afterGA_GBM_30days    2.762287       0.502610  0.272641      0.415072   \n",
       "BL_afterGA_SVM_30days    2.762210       0.502596  0.272636      0.415072   \n",
       "BL_afterGA_EXS_30days    2.761169       0.502406  0.272572      0.415135   \n",
       "BL_afterGA_ADA_30days    2.756652       0.501584  0.272294      0.415188   \n",
       "BL_afterGA_LR_30days     2.755978       0.501462  0.272252      0.415073   \n",
       "BL_afterGA_DNN_30days    2.750961       0.500549  0.271943      0.416818   \n",
       "BL_afterGA_ET_30days     2.750949       0.500546  0.271942      0.416764   \n",
       "BL_afterGA_BAG_30days    2.749693       0.500318  0.271865      0.416817   \n",
       "BL_afterGA_RF_30days     2.745013       0.499467  0.271576      0.416817   \n",
       "BL_afterGA_NB_30days     2.744889       0.499444  0.271568      0.416818   \n",
       "\n",
       "                         sharpe   sortino        IR  \n",
       "BL_afterGA_GBM_30days  3.932865  9.939508  3.866244  \n",
       "BL_afterGA_SVM_30days  3.932820  9.939283  3.866176  \n",
       "BL_afterGA_EXS_30days  3.932116  9.935171  3.865408  \n",
       "BL_afterGA_ADA_30days  3.929456  9.929687  3.861142  \n",
       "BL_afterGA_LR_30days   3.929080  9.929968  3.860313  \n",
       "BL_afterGA_DNN_30days  3.925958  9.605297  3.855514  \n",
       "BL_afterGA_ET_30days   3.925951  9.604257  3.855614  \n",
       "BL_afterGA_BAG_30days  3.925199  9.603527  3.854348  \n",
       "BL_afterGA_RF_30days   3.922870  9.595279  3.850956  \n",
       "BL_afterGA_NB_30days   3.922304  9.596490  3.849796  "
      ]
     },
     "execution_count": 48,
     "metadata": {},
     "output_type": "execute_result"
    }
   ],
   "source": [
    "results_10days_after.sort_values(\"tot_return\", ascending=False)"
   ]
  },
  {
   "cell_type": "code",
   "execution_count": 49,
   "metadata": {},
   "outputs": [
    {
     "data": {
      "text/html": [
       "<div>\n",
       "<style scoped>\n",
       "    .dataframe tbody tr th:only-of-type {\n",
       "        vertical-align: middle;\n",
       "    }\n",
       "\n",
       "    .dataframe tbody tr th {\n",
       "        vertical-align: top;\n",
       "    }\n",
       "\n",
       "    .dataframe thead th {\n",
       "        text-align: right;\n",
       "    }\n",
       "</style>\n",
       "<table border=\"1\" class=\"dataframe\">\n",
       "  <thead>\n",
       "    <tr style=\"text-align: right;\">\n",
       "      <th></th>\n",
       "      <th>tot_return</th>\n",
       "      <th>annual_return</th>\n",
       "      <th>cagr</th>\n",
       "      <th>max_drawdown</th>\n",
       "      <th>sharpe</th>\n",
       "      <th>sortino</th>\n",
       "      <th>IR</th>\n",
       "    </tr>\n",
       "  </thead>\n",
       "  <tbody>\n",
       "    <tr>\n",
       "      <th>BL_beforeGA_ADA_30days</th>\n",
       "      <td>2.762211</td>\n",
       "      <td>0.502596</td>\n",
       "      <td>0.272636</td>\n",
       "      <td>0.415072</td>\n",
       "      <td>3.932821</td>\n",
       "      <td>9.939285</td>\n",
       "      <td>3.866177</td>\n",
       "    </tr>\n",
       "    <tr>\n",
       "      <th>BL_beforeGA_LR_30days</th>\n",
       "      <td>2.762208</td>\n",
       "      <td>0.502595</td>\n",
       "      <td>0.272636</td>\n",
       "      <td>0.415072</td>\n",
       "      <td>3.932819</td>\n",
       "      <td>9.939279</td>\n",
       "      <td>3.866173</td>\n",
       "    </tr>\n",
       "    <tr>\n",
       "      <th>BL_beforeGA_SVM_30days</th>\n",
       "      <td>2.761925</td>\n",
       "      <td>0.502544</td>\n",
       "      <td>0.272619</td>\n",
       "      <td>0.415072</td>\n",
       "      <td>3.932645</td>\n",
       "      <td>9.938976</td>\n",
       "      <td>3.865916</td>\n",
       "    </tr>\n",
       "    <tr>\n",
       "      <th>BL_beforeGA_ET_30days</th>\n",
       "      <td>2.761485</td>\n",
       "      <td>0.502464</td>\n",
       "      <td>0.272592</td>\n",
       "      <td>0.415188</td>\n",
       "      <td>3.932361</td>\n",
       "      <td>9.936985</td>\n",
       "      <td>3.865725</td>\n",
       "    </tr>\n",
       "    <tr>\n",
       "      <th>BL_beforeGA_EXS_30days</th>\n",
       "      <td>2.760914</td>\n",
       "      <td>0.502360</td>\n",
       "      <td>0.272556</td>\n",
       "      <td>0.415019</td>\n",
       "      <td>3.932048</td>\n",
       "      <td>9.935927</td>\n",
       "      <td>3.865091</td>\n",
       "    </tr>\n",
       "    <tr>\n",
       "      <th>BL_beforeGA_NB_30days</th>\n",
       "      <td>2.751733</td>\n",
       "      <td>0.500689</td>\n",
       "      <td>0.271991</td>\n",
       "      <td>0.416817</td>\n",
       "      <td>3.926356</td>\n",
       "      <td>9.606696</td>\n",
       "      <td>3.856093</td>\n",
       "    </tr>\n",
       "    <tr>\n",
       "      <th>BL_beforeGA_BAG_30days</th>\n",
       "      <td>2.751037</td>\n",
       "      <td>0.500563</td>\n",
       "      <td>0.271948</td>\n",
       "      <td>0.416817</td>\n",
       "      <td>3.926002</td>\n",
       "      <td>9.605418</td>\n",
       "      <td>3.855572</td>\n",
       "    </tr>\n",
       "    <tr>\n",
       "      <th>BL_beforeGA_DNN_30days</th>\n",
       "      <td>2.749753</td>\n",
       "      <td>0.500329</td>\n",
       "      <td>0.271868</td>\n",
       "      <td>0.416817</td>\n",
       "      <td>3.925235</td>\n",
       "      <td>9.603623</td>\n",
       "      <td>3.854409</td>\n",
       "    </tr>\n",
       "    <tr>\n",
       "      <th>BL_beforeGA_GBM_30days</th>\n",
       "      <td>2.746439</td>\n",
       "      <td>0.499726</td>\n",
       "      <td>0.271664</td>\n",
       "      <td>0.416764</td>\n",
       "      <td>3.923236</td>\n",
       "      <td>9.597720</td>\n",
       "      <td>3.851331</td>\n",
       "    </tr>\n",
       "    <tr>\n",
       "      <th>BL_beforeGA_RF_30days</th>\n",
       "      <td>2.745407</td>\n",
       "      <td>0.499538</td>\n",
       "      <td>0.271600</td>\n",
       "      <td>0.416933</td>\n",
       "      <td>3.922587</td>\n",
       "      <td>9.596105</td>\n",
       "      <td>3.850484</td>\n",
       "    </tr>\n",
       "  </tbody>\n",
       "</table>\n",
       "</div>"
      ],
      "text/plain": [
       "                        tot_return  annual_return      cagr  max_drawdown  \\\n",
       "BL_beforeGA_ADA_30days    2.762211       0.502596  0.272636      0.415072   \n",
       "BL_beforeGA_LR_30days     2.762208       0.502595  0.272636      0.415072   \n",
       "BL_beforeGA_SVM_30days    2.761925       0.502544  0.272619      0.415072   \n",
       "BL_beforeGA_ET_30days     2.761485       0.502464  0.272592      0.415188   \n",
       "BL_beforeGA_EXS_30days    2.760914       0.502360  0.272556      0.415019   \n",
       "BL_beforeGA_NB_30days     2.751733       0.500689  0.271991      0.416817   \n",
       "BL_beforeGA_BAG_30days    2.751037       0.500563  0.271948      0.416817   \n",
       "BL_beforeGA_DNN_30days    2.749753       0.500329  0.271868      0.416817   \n",
       "BL_beforeGA_GBM_30days    2.746439       0.499726  0.271664      0.416764   \n",
       "BL_beforeGA_RF_30days     2.745407       0.499538  0.271600      0.416933   \n",
       "\n",
       "                          sharpe   sortino        IR  \n",
       "BL_beforeGA_ADA_30days  3.932821  9.939285  3.866177  \n",
       "BL_beforeGA_LR_30days   3.932819  9.939279  3.866173  \n",
       "BL_beforeGA_SVM_30days  3.932645  9.938976  3.865916  \n",
       "BL_beforeGA_ET_30days   3.932361  9.936985  3.865725  \n",
       "BL_beforeGA_EXS_30days  3.932048  9.935927  3.865091  \n",
       "BL_beforeGA_NB_30days   3.926356  9.606696  3.856093  \n",
       "BL_beforeGA_BAG_30days  3.926002  9.605418  3.855572  \n",
       "BL_beforeGA_DNN_30days  3.925235  9.603623  3.854409  \n",
       "BL_beforeGA_GBM_30days  3.923236  9.597720  3.851331  \n",
       "BL_beforeGA_RF_30days   3.922587  9.596105  3.850484  "
      ]
     },
     "execution_count": 49,
     "metadata": {},
     "output_type": "execute_result"
    }
   ],
   "source": [
    "results_10days_before.sort_values(\"tot_return\", ascending=False)"
   ]
  },
  {
   "cell_type": "code",
   "execution_count": null,
   "metadata": {},
   "outputs": [],
   "source": []
  },
  {
   "cell_type": "code",
   "execution_count": null,
   "metadata": {},
   "outputs": [],
   "source": []
  },
  {
   "cell_type": "code",
   "execution_count": 38,
   "metadata": {},
   "outputs": [
    {
     "data": {
      "text/html": [
       "<div>\n",
       "<style scoped>\n",
       "    .dataframe tbody tr th:only-of-type {\n",
       "        vertical-align: middle;\n",
       "    }\n",
       "\n",
       "    .dataframe tbody tr th {\n",
       "        vertical-align: top;\n",
       "    }\n",
       "\n",
       "    .dataframe thead th {\n",
       "        text-align: right;\n",
       "    }\n",
       "</style>\n",
       "<table border=\"1\" class=\"dataframe\">\n",
       "  <thead>\n",
       "    <tr style=\"text-align: right;\">\n",
       "      <th></th>\n",
       "      <th>mean_return</th>\n",
       "    </tr>\n",
       "  </thead>\n",
       "  <tbody>\n",
       "    <tr>\n",
       "      <th>30days</th>\n",
       "      <td>0.501219</td>\n",
       "    </tr>\n",
       "    <tr>\n",
       "      <th>10days</th>\n",
       "      <td>0.349516</td>\n",
       "    </tr>\n",
       "    <tr>\n",
       "      <th>5days</th>\n",
       "      <td>0.288662</td>\n",
       "    </tr>\n",
       "    <tr>\n",
       "      <th>12days</th>\n",
       "      <td>0.269986</td>\n",
       "    </tr>\n",
       "    <tr>\n",
       "      <th>25days</th>\n",
       "      <td>0.255400</td>\n",
       "    </tr>\n",
       "    <tr>\n",
       "      <th>20days</th>\n",
       "      <td>0.207095</td>\n",
       "    </tr>\n",
       "    <tr>\n",
       "      <th>7days</th>\n",
       "      <td>0.185811</td>\n",
       "    </tr>\n",
       "    <tr>\n",
       "      <th>15days</th>\n",
       "      <td>0.178191</td>\n",
       "    </tr>\n",
       "    <tr>\n",
       "      <th>18days</th>\n",
       "      <td>0.147142</td>\n",
       "    </tr>\n",
       "    <tr>\n",
       "      <th>3days</th>\n",
       "      <td>0.097360</td>\n",
       "    </tr>\n",
       "  </tbody>\n",
       "</table>\n",
       "</div>"
      ],
      "text/plain": [
       "        mean_return\n",
       "30days     0.501219\n",
       "10days     0.349516\n",
       "5days      0.288662\n",
       "12days     0.269986\n",
       "25days     0.255400\n",
       "20days     0.207095\n",
       "7days      0.185811\n",
       "15days     0.178191\n",
       "18days     0.147142\n",
       "3days      0.097360"
      ]
     },
     "execution_count": 38,
     "metadata": {},
     "output_type": "execute_result"
    }
   ],
   "source": [
    "aa = pd.DataFrame(columns=['mean_return'])\n",
    "for freq in frequencyList:\n",
    "    aa.loc[str(freq) + \"days\"] = np.mean(results.loc[results.index.to_series().apply(lambda x: \"_\" + str(freq) + \"days\" in x)]).values[1]\n",
    "aa.sort_values('mean_return', ascending=False)"
   ]
  },
  {
   "cell_type": "code",
   "execution_count": 39,
   "metadata": {},
   "outputs": [
    {
     "data": {
      "text/html": [
       "<div>\n",
       "<style scoped>\n",
       "    .dataframe tbody tr th:only-of-type {\n",
       "        vertical-align: middle;\n",
       "    }\n",
       "\n",
       "    .dataframe tbody tr th {\n",
       "        vertical-align: top;\n",
       "    }\n",
       "\n",
       "    .dataframe thead th {\n",
       "        text-align: right;\n",
       "    }\n",
       "</style>\n",
       "<table border=\"1\" class=\"dataframe\">\n",
       "  <thead>\n",
       "    <tr style=\"text-align: right;\">\n",
       "      <th></th>\n",
       "      <th>mean_return</th>\n",
       "    </tr>\n",
       "  </thead>\n",
       "  <tbody>\n",
       "    <tr>\n",
       "      <th>20days</th>\n",
       "      <td>0.161917</td>\n",
       "    </tr>\n",
       "    <tr>\n",
       "      <th>10days</th>\n",
       "      <td>0.151628</td>\n",
       "    </tr>\n",
       "    <tr>\n",
       "      <th>30days</th>\n",
       "      <td>0.122584</td>\n",
       "    </tr>\n",
       "    <tr>\n",
       "      <th>12days</th>\n",
       "      <td>0.099743</td>\n",
       "    </tr>\n",
       "    <tr>\n",
       "      <th>25days</th>\n",
       "      <td>0.091387</td>\n",
       "    </tr>\n",
       "    <tr>\n",
       "      <th>5days</th>\n",
       "      <td>0.090187</td>\n",
       "    </tr>\n",
       "    <tr>\n",
       "      <th>18days</th>\n",
       "      <td>0.056019</td>\n",
       "    </tr>\n",
       "    <tr>\n",
       "      <th>15days</th>\n",
       "      <td>0.050700</td>\n",
       "    </tr>\n",
       "    <tr>\n",
       "      <th>7days</th>\n",
       "      <td>0.042720</td>\n",
       "    </tr>\n",
       "    <tr>\n",
       "      <th>3days</th>\n",
       "      <td>0.027503</td>\n",
       "    </tr>\n",
       "  </tbody>\n",
       "</table>\n",
       "</div>"
      ],
      "text/plain": [
       "        mean_return\n",
       "20days     0.161917\n",
       "10days     0.151628\n",
       "30days     0.122584\n",
       "12days     0.099743\n",
       "25days     0.091387\n",
       "5days      0.090187\n",
       "18days     0.056019\n",
       "15days     0.050700\n",
       "7days      0.042720\n",
       "3days      0.027503"
      ]
     },
     "execution_count": 39,
     "metadata": {},
     "output_type": "execute_result"
    }
   ],
   "source": [
    "aa = pd.DataFrame(columns=['mean_return'])\n",
    "for freq in frequencyList:\n",
    "    aa.loc[str(freq) + \"days\"] = np.mean(avgresults.loc[avgresults.index.to_series().apply(lambda x: \"_\" + str(freq) + \"days\" in x)]).values[1]\n",
    "aa.sort_values('mean_return', ascending=False)"
   ]
  },
  {
   "cell_type": "code",
   "execution_count": null,
   "metadata": {},
   "outputs": [],
   "source": []
  }
 ],
 "metadata": {
  "kernelspec": {
   "display_name": "Python 3",
   "language": "python",
   "name": "python3"
  },
  "language_info": {
   "codemirror_mode": {
    "name": "ipython",
    "version": 3
   },
   "file_extension": ".py",
   "mimetype": "text/x-python",
   "name": "python",
   "nbconvert_exporter": "python",
   "pygments_lexer": "ipython3",
   "version": "3.6.5"
  }
 },
 "nbformat": 4,
 "nbformat_minor": 2
}
