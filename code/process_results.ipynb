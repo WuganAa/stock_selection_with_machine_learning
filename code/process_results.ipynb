{
 "cells": [
  {
   "cell_type": "code",
   "execution_count": 1,
   "metadata": {},
   "outputs": [],
   "source": [
    "import numpy as np\n",
    "import pandas as pd\n",
    "from datetime import datetime\n",
    "import os\n",
    "import pickle as pkl"
   ]
  },
  {
   "cell_type": "code",
   "execution_count": 2,
   "metadata": {},
   "outputs": [],
   "source": [
    "resultspath = os.path.join(\"F:\\\\DeepLearning\\\\Model\\\\20181003-135120\\\\results\")\n",
    "avgresultspath = os.path.join(\"F:\\\\DeepLearning\\\\Model\\\\20181003-135120\\\\results_avg\")"
   ]
  },
  {
   "cell_type": "code",
   "execution_count": 3,
   "metadata": {},
   "outputs": [],
   "source": [
    "GAtypeList = ['beforeGA', 'afterGA']\n",
    "frequencyList = [3, 5, 7, 10, 12, 15, 18, 20, 25, 30]\n",
    "modelList = ['LR', 'RF', 'SVM', 'DNN', 'NB', 'GBM', 'BAG', 'ET', 'ADA', 'EXS']"
   ]
  },
  {
   "cell_type": "code",
   "execution_count": 4,
   "metadata": {},
   "outputs": [],
   "source": [
    "avgresults = {}\n",
    "for GAtype in GAtypeList:\n",
    "    for modelname in modelList:\n",
    "        saveresultspath = os.path.join(avgresultspath, modelname)\n",
    "        for frequency in frequencyList:\n",
    "            pngname = \"AVG_\" + GAtype + \"_\" + modelname + \"_\" + str(frequency) + \"days\"\n",
    "            with open(os.path.join(saveresultspath, pngname + \".pkl\"), \"rb\") as file:\n",
    "                equitys = pkl.load(file)\n",
    "            avgresults[pngname] = equitys[-1] / equitys[0]\n",
    "avgresults = pd.DataFrame(avgresults, columns=avgresults.keys(), index=['returns']).T"
   ]
  },
  {
   "cell_type": "code",
   "execution_count": 5,
   "metadata": {},
   "outputs": [
    {
     "data": {
      "text/plain": [
       "(200, 1)"
      ]
     },
     "execution_count": 5,
     "metadata": {},
     "output_type": "execute_result"
    }
   ],
   "source": [
    "avgresults.shape"
   ]
  },
  {
   "cell_type": "code",
   "execution_count": 6,
   "metadata": {},
   "outputs": [],
   "source": [
    "results = {}\n",
    "for GAtype in GAtypeList:\n",
    "    for modelname in modelList:\n",
    "        saveresultspath = os.path.join(resultspath, modelname)\n",
    "        for frequency in frequencyList:\n",
    "            pngname = \"BL_\" + GAtype + \"_\" + modelname + \"_\" + str(frequency) + \"days\"\n",
    "            with open(os.path.join(saveresultspath, pngname + \".pkl\"), \"rb\") as file:\n",
    "                equitys = pkl.load(file)\n",
    "            results[pngname] = equitys[-1][0,0] / equitys[0]\n",
    "results = pd.DataFrame(results, columns=results.keys(), index=['returns']).T"
   ]
  },
  {
   "cell_type": "code",
   "execution_count": 7,
   "metadata": {},
   "outputs": [
    {
     "data": {
      "text/plain": [
       "(200, 1)"
      ]
     },
     "execution_count": 7,
     "metadata": {},
     "output_type": "execute_result"
    }
   ],
   "source": [
    "results.shape"
   ]
  },
  {
   "cell_type": "code",
   "execution_count": 8,
   "metadata": {},
   "outputs": [],
   "source": [
    "freq = 12"
   ]
  },
  {
   "cell_type": "code",
   "execution_count": null,
   "metadata": {},
   "outputs": [],
   "source": []
  },
  {
   "cell_type": "code",
   "execution_count": 9,
   "metadata": {},
   "outputs": [
    {
     "data": {
      "text/html": [
       "<div>\n",
       "<style scoped>\n",
       "    .dataframe tbody tr th:only-of-type {\n",
       "        vertical-align: middle;\n",
       "    }\n",
       "\n",
       "    .dataframe tbody tr th {\n",
       "        vertical-align: top;\n",
       "    }\n",
       "\n",
       "    .dataframe thead th {\n",
       "        text-align: right;\n",
       "    }\n",
       "</style>\n",
       "<table border=\"1\" class=\"dataframe\">\n",
       "  <thead>\n",
       "    <tr style=\"text-align: right;\">\n",
       "      <th></th>\n",
       "      <th>returns</th>\n",
       "    </tr>\n",
       "  </thead>\n",
       "  <tbody>\n",
       "    <tr>\n",
       "      <th>BL_beforeGA_LR_12days</th>\n",
       "      <td>-0.003782</td>\n",
       "    </tr>\n",
       "    <tr>\n",
       "      <th>BL_beforeGA_RF_12days</th>\n",
       "      <td>3.542066</td>\n",
       "    </tr>\n",
       "    <tr>\n",
       "      <th>BL_beforeGA_SVM_12days</th>\n",
       "      <td>-0.157296</td>\n",
       "    </tr>\n",
       "    <tr>\n",
       "      <th>BL_beforeGA_DNN_12days</th>\n",
       "      <td>1.154100</td>\n",
       "    </tr>\n",
       "    <tr>\n",
       "      <th>BL_beforeGA_NB_12days</th>\n",
       "      <td>0.052797</td>\n",
       "    </tr>\n",
       "    <tr>\n",
       "      <th>BL_beforeGA_GBM_12days</th>\n",
       "      <td>-709.214982</td>\n",
       "    </tr>\n",
       "    <tr>\n",
       "      <th>BL_beforeGA_BAG_12days</th>\n",
       "      <td>0.162044</td>\n",
       "    </tr>\n",
       "    <tr>\n",
       "      <th>BL_beforeGA_ET_12days</th>\n",
       "      <td>9.480435</td>\n",
       "    </tr>\n",
       "    <tr>\n",
       "      <th>BL_beforeGA_ADA_12days</th>\n",
       "      <td>5.857538</td>\n",
       "    </tr>\n",
       "    <tr>\n",
       "      <th>BL_beforeGA_EXS_12days</th>\n",
       "      <td>203.469052</td>\n",
       "    </tr>\n",
       "    <tr>\n",
       "      <th>BL_afterGA_LR_12days</th>\n",
       "      <td>-6.312171</td>\n",
       "    </tr>\n",
       "    <tr>\n",
       "      <th>BL_afterGA_RF_12days</th>\n",
       "      <td>0.020287</td>\n",
       "    </tr>\n",
       "    <tr>\n",
       "      <th>BL_afterGA_SVM_12days</th>\n",
       "      <td>-0.039476</td>\n",
       "    </tr>\n",
       "    <tr>\n",
       "      <th>BL_afterGA_DNN_12days</th>\n",
       "      <td>-3.753656</td>\n",
       "    </tr>\n",
       "    <tr>\n",
       "      <th>BL_afterGA_NB_12days</th>\n",
       "      <td>-1.121910</td>\n",
       "    </tr>\n",
       "    <tr>\n",
       "      <th>BL_afterGA_GBM_12days</th>\n",
       "      <td>1.211997</td>\n",
       "    </tr>\n",
       "    <tr>\n",
       "      <th>BL_afterGA_BAG_12days</th>\n",
       "      <td>5.257870</td>\n",
       "    </tr>\n",
       "    <tr>\n",
       "      <th>BL_afterGA_ET_12days</th>\n",
       "      <td>0.006620</td>\n",
       "    </tr>\n",
       "    <tr>\n",
       "      <th>BL_afterGA_ADA_12days</th>\n",
       "      <td>0.093235</td>\n",
       "    </tr>\n",
       "    <tr>\n",
       "      <th>BL_afterGA_EXS_12days</th>\n",
       "      <td>-0.186963</td>\n",
       "    </tr>\n",
       "  </tbody>\n",
       "</table>\n",
       "</div>"
      ],
      "text/plain": [
       "                           returns\n",
       "BL_beforeGA_LR_12days    -0.003782\n",
       "BL_beforeGA_RF_12days     3.542066\n",
       "BL_beforeGA_SVM_12days   -0.157296\n",
       "BL_beforeGA_DNN_12days    1.154100\n",
       "BL_beforeGA_NB_12days     0.052797\n",
       "BL_beforeGA_GBM_12days -709.214982\n",
       "BL_beforeGA_BAG_12days    0.162044\n",
       "BL_beforeGA_ET_12days     9.480435\n",
       "BL_beforeGA_ADA_12days    5.857538\n",
       "BL_beforeGA_EXS_12days  203.469052\n",
       "BL_afterGA_LR_12days     -6.312171\n",
       "BL_afterGA_RF_12days      0.020287\n",
       "BL_afterGA_SVM_12days    -0.039476\n",
       "BL_afterGA_DNN_12days    -3.753656\n",
       "BL_afterGA_NB_12days     -1.121910\n",
       "BL_afterGA_GBM_12days     1.211997\n",
       "BL_afterGA_BAG_12days     5.257870\n",
       "BL_afterGA_ET_12days      0.006620\n",
       "BL_afterGA_ADA_12days     0.093235\n",
       "BL_afterGA_EXS_12days    -0.186963"
      ]
     },
     "execution_count": 9,
     "metadata": {},
     "output_type": "execute_result"
    }
   ],
   "source": []
  },
  {
   "cell_type": "code",
   "execution_count": 22,
   "metadata": {},
   "outputs": [
    {
     "name": "stdout",
     "output_type": "stream",
     "text": [
      "3day :\t 7\n",
      "5day :\t 6\n",
      "7day :\t 5\n",
      "10day :\t 4\n",
      "12day :\t 7\n",
      "15day :\t 4\n",
      "18day :\t 2\n",
      "20day :\t 7\n",
      "25day :\t 2\n",
      "30day :\t 4\n"
     ]
    }
   ],
   "source": [
    "for freq in frequencyList:\n",
    "    aa = np.sum(results.loc[results.index.to_series().apply(lambda x: \"_\" + str(freq) + \"days\" in x)] >= 1).values[0]\n",
    "    print(str(freq) + \"day\", \":\\t\", aa)"
   ]
  },
  {
   "cell_type": "code",
   "execution_count": null,
   "metadata": {},
   "outputs": [],
   "source": []
  },
  {
   "cell_type": "code",
   "execution_count": null,
   "metadata": {},
   "outputs": [],
   "source": []
  },
  {
   "cell_type": "code",
   "execution_count": null,
   "metadata": {},
   "outputs": [],
   "source": []
  },
  {
   "cell_type": "code",
   "execution_count": 10,
   "metadata": {},
   "outputs": [],
   "source": [
    "resultssort = results.sort_values(\"returns\", ascending=False)"
   ]
  },
  {
   "cell_type": "code",
   "execution_count": 11,
   "metadata": {},
   "outputs": [],
   "source": [
    "unbelivable = resultssort.iloc[:21].index.to_series()"
   ]
  },
  {
   "cell_type": "code",
   "execution_count": 12,
   "metadata": {},
   "outputs": [
    {
     "data": {
      "text/plain": [
       "10"
      ]
     },
     "execution_count": 12,
     "metadata": {},
     "output_type": "execute_result"
    }
   ],
   "source": [
    "sum(unbelivable.apply(lambda x: \"after\" in x))"
   ]
  },
  {
   "cell_type": "code",
   "execution_count": 13,
   "metadata": {},
   "outputs": [
    {
     "data": {
      "text/plain": [
       "11"
      ]
     },
     "execution_count": 13,
     "metadata": {},
     "output_type": "execute_result"
    }
   ],
   "source": [
    "sum(unbelivable.apply(lambda x: \"before\" in x))"
   ]
  },
  {
   "cell_type": "code",
   "execution_count": 14,
   "metadata": {},
   "outputs": [
    {
     "name": "stdout",
     "output_type": "stream",
     "text": [
      "LR :\t 1\n",
      "RF :\t 2\n",
      "SVM :\t 2\n",
      "DNN :\t 1\n",
      "NB :\t 1\n",
      "GBM :\t 5\n",
      "BAG :\t 0\n",
      "ET :\t 3\n",
      "ADA :\t 2\n",
      "EXS :\t 4\n"
     ]
    }
   ],
   "source": [
    "for model in modelList:\n",
    "    print(model, \":\\t\", sum(unbelivable.apply(lambda x: model in x)))"
   ]
  },
  {
   "cell_type": "code",
   "execution_count": 15,
   "metadata": {},
   "outputs": [
    {
     "name": "stdout",
     "output_type": "stream",
     "text": [
      "3day :\t 5\n",
      "5day :\t 3\n",
      "7day :\t 1\n",
      "10day :\t 3\n",
      "12day :\t 1\n",
      "15day :\t 3\n",
      "18day :\t 2\n",
      "20day :\t 2\n",
      "25day :\t 1\n",
      "30day :\t 1\n"
     ]
    }
   ],
   "source": [
    "for freq in frequencyList:\n",
    "    print(str(freq) + \"day\", \":\\t\", sum(unbelivable.apply(lambda x: \"_\"+str(freq) in x)))"
   ]
  },
  {
   "cell_type": "code",
   "execution_count": 16,
   "metadata": {},
   "outputs": [
    {
     "data": {
      "text/plain": [
       "BL_afterGA_ET_7days          BL_afterGA_ET_7days\n",
       "BL_beforeGA_EXS_3days      BL_beforeGA_EXS_3days\n",
       "BL_beforeGA_GBM_20days    BL_beforeGA_GBM_20days\n",
       "BL_afterGA_RF_5days          BL_afterGA_RF_5days\n",
       "BL_afterGA_GBM_15days      BL_afterGA_GBM_15days\n",
       "BL_beforeGA_LR_3days        BL_beforeGA_LR_3days\n",
       "BL_afterGA_ADA_3days        BL_afterGA_ADA_3days\n",
       "BL_beforeGA_RF_3days        BL_beforeGA_RF_3days\n",
       "BL_afterGA_SVM_10days      BL_afterGA_SVM_10days\n",
       "BL_beforeGA_EXS_12days    BL_beforeGA_EXS_12days\n",
       "BL_afterGA_ET_15days        BL_afterGA_ET_15days\n",
       "BL_afterGA_GBM_18days      BL_afterGA_GBM_18days\n",
       "BL_beforeGA_ADA_30days    BL_beforeGA_ADA_30days\n",
       "BL_beforeGA_DNN_5days      BL_beforeGA_DNN_5days\n",
       "BL_beforeGA_GBM_18days    BL_beforeGA_GBM_18days\n",
       "BL_beforeGA_GBM_5days      BL_beforeGA_GBM_5days\n",
       "BL_beforeGA_SVM_10days    BL_beforeGA_SVM_10days\n",
       "BL_afterGA_EXS_25days      BL_afterGA_EXS_25days\n",
       "BL_beforeGA_NB_20days      BL_beforeGA_NB_20days\n",
       "BL_afterGA_ET_10days        BL_afterGA_ET_10days\n",
       "BL_afterGA_EXS_15days      BL_afterGA_EXS_15days\n",
       "dtype: object"
      ]
     },
     "execution_count": 16,
     "metadata": {},
     "output_type": "execute_result"
    }
   ],
   "source": [
    "unbelivable"
   ]
  },
  {
   "cell_type": "code",
   "execution_count": null,
   "metadata": {},
   "outputs": [],
   "source": []
  },
  {
   "cell_type": "code",
   "execution_count": null,
   "metadata": {},
   "outputs": [],
   "source": []
  },
  {
   "cell_type": "code",
   "execution_count": 23,
   "metadata": {},
   "outputs": [],
   "source": [
    "avgresultssort = avgresults.sort_values(\"returns\", ascending=False)"
   ]
  },
  {
   "cell_type": "code",
   "execution_count": 25,
   "metadata": {},
   "outputs": [
    {
     "name": "stdout",
     "output_type": "stream",
     "text": [
      "3day :\t 0\n",
      "5day :\t 19\n",
      "7day :\t 0\n",
      "10day :\t 18\n",
      "12day :\t 0\n",
      "15day :\t 0\n",
      "18day :\t 0\n",
      "20day :\t 18\n",
      "25day :\t 12\n",
      "30day :\t 2\n"
     ]
    }
   ],
   "source": [
    "for freq in frequencyList:\n",
    "    aa = np.sum(avgresultssort.loc[avgresultssort.index.to_series().apply(lambda x: \"_\" + str(freq) + \"days\" in x)] >= 1).values[0]\n",
    "    print(str(freq) + \"day\", \":\\t\", aa)"
   ]
  },
  {
   "cell_type": "code",
   "execution_count": null,
   "metadata": {},
   "outputs": [],
   "source": []
  }
 ],
 "metadata": {
  "kernelspec": {
   "display_name": "Python 3",
   "language": "python",
   "name": "python3"
  },
  "language_info": {
   "codemirror_mode": {
    "name": "ipython",
    "version": 3
   },
   "file_extension": ".py",
   "mimetype": "text/x-python",
   "name": "python",
   "nbconvert_exporter": "python",
   "pygments_lexer": "ipython3",
   "version": "3.6.5"
  }
 },
 "nbformat": 4,
 "nbformat_minor": 2
}
