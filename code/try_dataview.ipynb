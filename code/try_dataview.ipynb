{
 "cells": [
  {
   "cell_type": "code",
   "execution_count": 34,
   "metadata": {},
   "outputs": [],
   "source": [
    "import pickle as pkl"
   ]
  },
  {
   "cell_type": "code",
   "execution_count": 35,
   "metadata": {},
   "outputs": [],
   "source": [
    "with open(\"F:\\\\DeepLearning\\\\Model\\\\20181004-214808\\\\results\\\\LR\\\\BL_beforeGA_LR_3days.pkl\", \"rb\") as file:\n",
    "    results = pkl.load(file)"
   ]
  },
  {
   "cell_type": "code",
   "execution_count": 38,
   "metadata": {},
   "outputs": [
    {
     "data": {
      "text/plain": [
       "dict_keys(['equity', 'returns', 'cum_returns', 'tot_return', 'annual_return', 'cagr', 'drawdown', 'max_drawdown', 'max_drawdown_duration', 'sharpe', 'sortino', 'IR', 'rolling_return_year', 'bench_equity', 'bench_returns', 'bench_cum_returns'])"
      ]
     },
     "execution_count": 38,
     "metadata": {},
     "output_type": "execute_result"
    }
   ],
   "source": [
    "results.keys()"
   ]
  },
  {
   "cell_type": "code",
   "execution_count": 39,
   "metadata": {},
   "outputs": [
    {
     "data": {
      "text/plain": [
       "0.5122438076326359"
      ]
     },
     "execution_count": 39,
     "metadata": {},
     "output_type": "execute_result"
    }
   ],
   "source": [
    "results['tot_return']"
   ]
  },
  {
   "cell_type": "code",
   "execution_count": 40,
   "metadata": {},
   "outputs": [
    {
     "data": {
      "text/plain": [
       "0.09320488025219945"
      ]
     },
     "execution_count": 40,
     "metadata": {},
     "output_type": "execute_result"
    }
   ],
   "source": [
    "results['annual_return']"
   ]
  },
  {
   "cell_type": "code",
   "execution_count": 41,
   "metadata": {},
   "outputs": [
    {
     "data": {
      "text/plain": [
       "0.07815929755741147"
      ]
     },
     "execution_count": 41,
     "metadata": {},
     "output_type": "execute_result"
    }
   ],
   "source": [
    "results['cagr']"
   ]
  },
  {
   "cell_type": "code",
   "execution_count": 42,
   "metadata": {},
   "outputs": [
    {
     "data": {
      "text/plain": [
       "0.41054570136420426"
      ]
     },
     "execution_count": 42,
     "metadata": {},
     "output_type": "execute_result"
    }
   ],
   "source": [
    "results['max_drawdown']"
   ]
  },
  {
   "cell_type": "code",
   "execution_count": 43,
   "metadata": {},
   "outputs": [
    {
     "data": {
      "text/plain": [
       "0.7069862918327935"
      ]
     },
     "execution_count": 43,
     "metadata": {},
     "output_type": "execute_result"
    }
   ],
   "source": [
    "results['sharpe']"
   ]
  },
  {
   "cell_type": "code",
   "execution_count": 44,
   "metadata": {},
   "outputs": [
    {
     "data": {
      "text/plain": [
       "1.0287370480042248"
      ]
     },
     "execution_count": 44,
     "metadata": {},
     "output_type": "execute_result"
    }
   ],
   "source": [
    "results['sortino']"
   ]
  },
  {
   "cell_type": "code",
   "execution_count": 45,
   "metadata": {},
   "outputs": [
    {
     "data": {
      "text/plain": [
       "0.5662508239555826"
      ]
     },
     "execution_count": 45,
     "metadata": {},
     "output_type": "execute_result"
    }
   ],
   "source": [
    "results['IR']"
   ]
  },
  {
   "cell_type": "code",
   "execution_count": null,
   "metadata": {},
   "outputs": [],
   "source": []
  },
  {
   "cell_type": "code",
   "execution_count": 1,
   "metadata": {},
   "outputs": [],
   "source": [
    "import numpy as np\n",
    "import pandas as pd\n",
    "import os\n",
    "import csv\n",
    "import matplotlib.pyplot as plt\n",
    "from cvxopt import solvers, matrix \n",
    "%matplotlib inline"
   ]
  },
  {
   "cell_type": "code",
   "execution_count": 2,
   "metadata": {},
   "outputs": [],
   "source": [
    "from blacklitterman import BlackLitterman"
   ]
  },
  {
   "cell_type": "code",
   "execution_count": 3,
   "metadata": {},
   "outputs": [],
   "source": [
    "def plot(data):\n",
    "    plt.figure(figsize=(10,5))\n",
    "    plt.plot(data)\n",
    "    plt.show()"
   ]
  },
  {
   "cell_type": "code",
   "execution_count": 4,
   "metadata": {},
   "outputs": [],
   "source": [
    "modelpath = os.path.join(\"F:\\\\DeepLearning\\\\Model\\\\20181003-135120\")\n",
    "datapath = \"F:\\\\DeepLearning\\\\data\\\\outsample_total\"\n",
    "resultspath = os.path.join(\"F:\\\\DeepLearning\\\\Model\\\\20181003-135120\\\\results\")\n",
    "avgresultspath = os.path.join(\"F:\\\\DeepLearning\\\\Model\\\\20181003-135120\\\\results_avg\")"
   ]
  },
  {
   "cell_type": "code",
   "execution_count": 5,
   "metadata": {},
   "outputs": [],
   "source": [
    "modelpath = os.path.join(\"F:\\\\DeepLearning\\\\Model\\\\20181003-135120\")\n",
    "datapath = \"F:\\\\DeepLearning\\\\data\\\\outsample_total\"\n",
    "resultspath = os.path.join(\"F:\\\\DeepLearning\\\\Model\\\\20181003-135120\\\\results\")\n",
    "avgresultspath = os.path.join(\"F:\\\\DeepLearning\\\\Model\\\\20181003-135120\\\\results_avg\")\n",
    "\n",
    "if not os.path.exists(resultspath):\n",
    "    os.makedirs(resultspath)\n",
    "if not os.path.exists(avgresultspath):\n",
    "    os.makedirs(avgresultspath)\n",
    "\n",
    "GAtypeList = ['beforeGA', 'afterGA']\n",
    "frequencyList = [3, 5, 7, 10, 12, 15, 18, 20, 25, 30]\n",
    "modelList = ['LR', 'RF', 'SVM', 'DNN', 'NB', 'GBM', 'BAG', 'ET', 'ADA', 'EXS']"
   ]
  },
  {
   "cell_type": "code",
   "execution_count": 6,
   "metadata": {},
   "outputs": [],
   "source": [
    "return_data = pd.read_hdf(os.path.join(datapath, \"return_data.h5\"))\n",
    "mean_cum_returns = pd.read_hdf(os.path.join(datapath, \"mean_cum_returns.h5\"))\n",
    "market_data = pd.read_hdf(os.path.join(datapath, \"market_data.h5\"))\n",
    "risk_free = pd.read_hdf(os.path.join(datapath, \"risk_free.h5\"))"
   ]
  },
  {
   "cell_type": "code",
   "execution_count": 7,
   "metadata": {},
   "outputs": [],
   "source": [
    "GAtype = GAtypeList[0]\n",
    "modelname = modelList[0]\n",
    "frequency = frequencyList[4]"
   ]
  },
  {
   "cell_type": "code",
   "execution_count": 8,
   "metadata": {},
   "outputs": [],
   "source": [
    "saveGApath = os.path.join(modelpath, GAtype)\n",
    "savemodelpath = os.path.join(saveGApath, modelname)\n",
    "saveresultspath = os.path.join(resultspath, modelname)"
   ]
  },
  {
   "cell_type": "code",
   "execution_count": 9,
   "metadata": {},
   "outputs": [],
   "source": [
    "Y_portfolio = np.load(os.path.join(datapath, \"prices_\" + str(frequency) + \"days.npy\"))\n",
    "days = np.load(os.path.join(datapath, \"todays_\" + str(frequency) + \"days.npy\"))\n",
    "\n",
    "fname = modelname + \"_\" + str(frequency) + \"days_portfolio_probas.npy\"\n",
    "pred_data = np.load(os.path.join(savemodelpath, fname))\n",
    "\n",
    "# fname = modelname + \"_\" + str(frequency) + \"days_portfolios.npy\"\n",
    "# pred_data = np.load(os.path.join(savemodelpath, fname))"
   ]
  },
  {
   "cell_type": "code",
   "execution_count": 10,
   "metadata": {},
   "outputs": [],
   "source": [
    "a = 20180629"
   ]
  },
  {
   "cell_type": "code",
   "execution_count": null,
   "metadata": {},
   "outputs": [],
   "source": []
  },
  {
   "cell_type": "code",
   "execution_count": 23,
   "metadata": {},
   "outputs": [
    {
     "data": {
      "text/plain": [
       "'20180629'"
      ]
     },
     "execution_count": 23,
     "metadata": {},
     "output_type": "execute_result"
    }
   ],
   "source": []
  },
  {
   "cell_type": "code",
   "execution_count": 26,
   "metadata": {},
   "outputs": [
    {
     "data": {
      "text/plain": [
       "Timestamp('2018-06-29 00:00:00')"
      ]
     },
     "execution_count": 26,
     "metadata": {},
     "output_type": "execute_result"
    }
   ],
   "source": []
  },
  {
   "cell_type": "code",
   "execution_count": null,
   "metadata": {},
   "outputs": [],
   "source": []
  },
  {
   "cell_type": "code",
   "execution_count": 32,
   "metadata": {},
   "outputs": [],
   "source": [
    "days = "
   ]
  },
  {
   "cell_type": "code",
   "execution_count": 33,
   "metadata": {},
   "outputs": [
    {
     "data": {
      "text/plain": [
       "Timestamp('2012-12-31 00:00:00')"
      ]
     },
     "execution_count": 33,
     "metadata": {},
     "output_type": "execute_result"
    }
   ],
   "source": [
    "days[0]"
   ]
  },
  {
   "cell_type": "code",
   "execution_count": null,
   "metadata": {},
   "outputs": [],
   "source": []
  },
  {
   "cell_type": "code",
   "execution_count": 16,
   "metadata": {},
   "outputs": [
    {
     "data": {
      "text/plain": [
       "DatetimeIndex(['1970-01-01 00:00:00.020121231',\n",
       "               '1970-01-01 00:00:00.020130121',\n",
       "               '1970-01-01 00:00:00.020130206',\n",
       "               '1970-01-01 00:00:00.020130301',\n",
       "               '1970-01-01 00:00:00.020130319',\n",
       "               '1970-01-01 00:00:00.020130408',\n",
       "               '1970-01-01 00:00:00.020130424',\n",
       "               '1970-01-01 00:00:00.020130515',\n",
       "               '1970-01-01 00:00:00.020130531',\n",
       "               '1970-01-01 00:00:00.020130621',\n",
       "               ...\n",
       "               '1970-01-01 00:00:00.020180130',\n",
       "               '1970-01-01 00:00:00.020180222',\n",
       "               '1970-01-01 00:00:00.020180312',\n",
       "               '1970-01-01 00:00:00.020180328',\n",
       "               '1970-01-01 00:00:00.020180417',\n",
       "               '1970-01-01 00:00:00.020180507',\n",
       "               '1970-01-01 00:00:00.020180523',\n",
       "               '1970-01-01 00:00:00.020180608',\n",
       "               '1970-01-01 00:00:00.020180627',\n",
       "               '1970-01-01 00:00:00.020180629'],\n",
       "              dtype='datetime64[ns]', length=113, freq=None)"
      ]
     },
     "execution_count": 16,
     "metadata": {},
     "output_type": "execute_result"
    }
   ],
   "source": [
    "pd.to_datetime()"
   ]
  },
  {
   "cell_type": "code",
   "execution_count": null,
   "metadata": {},
   "outputs": [],
   "source": []
  },
  {
   "cell_type": "code",
   "execution_count": 32,
   "metadata": {},
   "outputs": [
    {
     "name": "stdout",
     "output_type": "stream",
     "text": [
      "Dataview loaded successfully.\n"
     ]
    }
   ],
   "source": [
    "bl = BlackLitterman(return_data, mean_cum_returns, market_data, risk_free, pred_data, days, frequency)#, pred_data_kind=\"bool\")"
   ]
  },
  {
   "cell_type": "code",
   "execution_count": null,
   "metadata": {},
   "outputs": [],
   "source": [
    "weights = bl.get_weights()"
   ]
  },
  {
   "cell_type": "code",
   "execution_count": null,
   "metadata": {},
   "outputs": [],
   "source": []
  },
  {
   "cell_type": "code",
   "execution_count": null,
   "metadata": {},
   "outputs": [],
   "source": []
  },
  {
   "cell_type": "code",
   "execution_count": 76,
   "metadata": {},
   "outputs": [
    {
     "name": "stdout",
     "output_type": "stream",
     "text": [
      "0 \t 0.01999999890125202 \t -0.019999997059994744\n",
      "1 \t 0.01999999726072447 \t -0.01999999440418224\n",
      "2 \t 0.01999999944157594 \t -0.019999999065242094\n",
      "3 \t 0.019999993226799396 \t -0.01999998922214719\n",
      "4 \t 0.019999989721180035 \t -0.019999983015476182\n",
      "5 \t 0.019999984278263973 \t -0.019999976920957566\n",
      "6 \t 0.019999996261184837 \t -0.01999999224256869\n",
      "7 \t 0.01999999259766491 \t -0.019999992797668228\n",
      "8 \t 0.019999970154586637 \t -0.01999997644775654\n",
      "9 \t 0.019999997428688094 \t -0.019999998385287234\n",
      "10 \t 0.01999998179395814 \t -0.01999999423914889\n",
      "11 \t 0.019999996631589273 \t -0.019999988043920357\n",
      "12 \t 0.019999965454547432 \t -0.019999864758614226\n",
      "13 \t 0.019999971538386247 \t -0.019999919215141333\n",
      "14 \t 0.019999997261810135 \t -0.019999986438331153\n",
      "15 \t 0.01999999860313122 \t -0.019999994366044646\n",
      "16 \t 0.01999999801962725 \t -0.019999993912187847\n",
      "17 \t 0.01999999711232523 \t -0.0199999854391168\n",
      "18 \t 0.019999908308307276 \t -0.0199999580702099\n",
      "19 \t 0.019999996098002043 \t -0.019999996751690254\n",
      "20 \t 0.019999961713504034 \t -0.01999996454007452\n",
      "21 \t 0.019999991125598183 \t -0.01999998784022057\n",
      "22 \t 0.019999999362384734 \t -0.019999998828899447\n",
      "23 \t 0.01999999104664264 \t -0.01999997026378408\n",
      "24 \t 0.019999999214973446 \t -0.019999996135579224\n",
      "25 \t 0.019999996863637494 \t -0.019999988099409366\n",
      "26 \t 0.019999993211712613 \t -0.019999996447456304\n",
      "27 \t 0.019999991431427017 \t -0.019999993265512737\n",
      "28 \t 0.019997188261298666 \t -0.0199940278416904\n",
      "29 \t 0.019999935216041185 \t -0.01999990172950471\n",
      "30 \t 0.019999781287837068 \t -0.019999788328814862\n",
      "31 \t 0.019999323464570413 \t -0.019998981226029\n",
      "32 \t 0.01999998389520227 \t -0.019999977509124224\n",
      "33 \t 0.019999998163184932 \t -0.01999999787474607\n",
      "34 \t 0.019999879442226674 \t -0.019999911381951733\n",
      "35 \t 0.01999996636570041 \t -0.019999938779686716\n",
      "36 \t 0.019999972405973867 \t -0.019999947593890496\n",
      "37 \t 0.019999991643426338 \t -0.0199999837869301\n",
      "38 \t 0.019998807354353946 \t -0.019998671290707395\n",
      "39 \t 0.019999992655229996 \t -0.019999992797469807\n",
      "40 \t 0.019999977274377457 \t -0.01999998077349776\n",
      "41 \t 0.019999938828915584 \t -0.019999935504764848\n",
      "42 \t 0.019999966066600802 \t -0.019999954999314448\n",
      "43 \t 0.019999200149693492 \t -0.019998793537318472\n",
      "44 \t 0.01999990287508588 \t -0.019999926536126738\n",
      "45 \t 0.019999836048041834 \t -0.0199998895277088\n",
      "46 \t 0.01999999820412652 \t -0.01999999913647862\n",
      "47 \t 0.019999980890217067 \t -0.019999980452779797\n",
      "48 \t 0.019999934346882083 \t -0.01999993100672972\n",
      "49 \t 0.01999974693385401 \t -0.019999650705788033\n",
      "50 \t 0.019999868048340235 \t -0.019999835575355084\n",
      "51 \t 0.019999997888639376 \t -0.019999997484134283\n",
      "52 \t 0.019999998908288612 \t -0.019999998503377064\n",
      "53 \t 0.019999996463558534 \t -0.01999999358049506\n",
      "54 \t 0.01999999586858607 \t -0.019999994252662374\n",
      "55 \t 0.019999994616217917 \t -0.019999991465120017\n",
      "56 \t 0.019999964168756917 \t -0.019999925757178766\n",
      "57 \t 0.01999999853899932 \t -0.0199999972365685\n",
      "58 \t 0.019999995468906365 \t -0.01999999045661387\n",
      "59 \t 0.019999973544658847 \t -0.019999932309406814\n",
      "60 \t 0.01999999930478171 \t -0.019999996593853365\n",
      "61 \t 0.019999995542047018 \t -0.019999982693867165\n",
      "62 \t 0.01999996645014189 \t -0.019999915061297596\n",
      "63 \t 0.019999998094536005 \t -0.019999995731003695\n",
      "64 \t 0.019999963879514332 \t -0.019999941895494804\n",
      "65 \t 0.019999803111739788 \t -0.01999971842338321\n",
      "66 \t 0.01999999325767329 \t -0.019999994542760628\n",
      "67 \t 0.01999996557561707 \t -0.019999965788768958\n",
      "68 \t 0.019999993962883073 \t -0.019999995606978096\n",
      "69 \t 0.019999998706416944 \t -0.019999998561998227\n",
      "70 \t 0.019999990170107614 \t -0.019999988607400352\n"
     ]
    }
   ],
   "source": [
    "for i in range(len(weights)):\n",
    "    print(i, \"\\t\", np.max(weights[i]), \"\\t\", np.min(weights[i]))"
   ]
  },
  {
   "cell_type": "code",
   "execution_count": null,
   "metadata": {},
   "outputs": [],
   "source": []
  },
  {
   "cell_type": "code",
   "execution_count": null,
   "metadata": {},
   "outputs": [],
   "source": []
  },
  {
   "cell_type": "code",
   "execution_count": null,
   "metadata": {},
   "outputs": [],
   "source": []
  },
  {
   "cell_type": "code",
   "execution_count": null,
   "metadata": {},
   "outputs": [],
   "source": []
  },
  {
   "cell_type": "code",
   "execution_count": 77,
   "metadata": {},
   "outputs": [
    {
     "data": {
      "image/png": "[encoded data removed]",
      "text/plain": [
       "<Figure size 720x360 with 1 Axes>"
      ]
     },
     "metadata": {},
     "output_type": "display_data"
    }
   ],
   "source": [
    "plot(weights[60])"
   ]
  },
  {
   "cell_type": "code",
   "execution_count": null,
   "metadata": {},
   "outputs": [],
   "source": []
  },
  {
   "cell_type": "code",
   "execution_count": 33,
   "metadata": {},
   "outputs": [],
   "source": [
    "self = bl"
   ]
  },
  {
   "cell_type": "code",
   "execution_count": 37,
   "metadata": {},
   "outputs": [],
   "source": [
    "index = 60"
   ]
  },
  {
   "cell_type": "code",
   "execution_count": 38,
   "metadata": {},
   "outputs": [],
   "source": [
    "today = self.days[index]\n",
    "today_status = self.trade_status.loc[today]\n",
    "today_stock = self.index_member.columns[self.index_member.loc[today] == 1.0].values\n",
    "today_stock = np.array([stock for stock in today_stock if today_status[stock]])\n",
    "\n",
    "i = np.where(self.return_data.index == today)[0][0]\n",
    "today_daily_return = self.return_data.iloc[i - self.cum_freq + 1:i + 1][today_stock]\n",
    "today_mean_cum_returns = self.mean_cum_returns.loc[today, today_stock]\n",
    "today_mkt_return = self.market_data.iloc[i - self.cum_freq + 1:i + 1]['market_data']\n",
    "today_risk_free = self.risk_free.loc[today]\n",
    "pred_data = self.pred_data[index]"
   ]
  },
  {
   "cell_type": "code",
   "execution_count": 44,
   "metadata": {},
   "outputs": [
    {
     "data": {
      "text/plain": [
       "0.05318923318020263"
      ]
     },
     "execution_count": 44,
     "metadata": {},
     "output_type": "execute_result"
    }
   ],
   "source": [
    "today_mean_cum_returns['601998']"
   ]
  },
  {
   "cell_type": "code",
   "execution_count": 49,
   "metadata": {},
   "outputs": [],
   "source": [
    "sss = pd.read_hdf(\"F:\\\\DeepLearning\\\\Model\\\\20181003-135120\\\\outsample_total\\\\return_data.h5\")"
   ]
  },
  {
   "cell_type": "code",
   "execution_count": 59,
   "metadata": {},
   "outputs": [],
   "source": [
    "aaa = sss.iloc[300:350][today_stock]"
   ]
  },
  {
   "cell_type": "code",
   "execution_count": null,
   "metadata": {},
   "outputs": [],
   "source": [
    "return_data"
   ]
  },
  {
   "cell_type": "code",
   "execution_count": null,
   "metadata": {},
   "outputs": [],
   "source": []
  },
  {
   "cell_type": "code",
   "execution_count": null,
   "metadata": {},
   "outputs": [],
   "source": []
  },
  {
   "cell_type": "code",
   "execution_count": 48,
   "metadata": {},
   "outputs": [
    {
     "data": {
      "text/plain": [
       "date\n",
       "20150923   -0.014178\n",
       "20150924    0.018613\n",
       "20150925   -0.052326\n",
       "20150928    0.008764\n",
       "20150929   -0.038228\n",
       "20150930    0.014453\n",
       "20151008         NaN\n",
       "20151009         NaN\n",
       "20151012         NaN\n",
       "20151013         NaN\n",
       "20151014         NaN\n",
       "20151015         NaN\n",
       "20151016         NaN\n",
       "20151019         NaN\n",
       "20151020         NaN\n",
       "20151021         NaN\n",
       "20151022         NaN\n",
       "20151023         NaN\n",
       "20151026         NaN\n",
       "20151027         NaN\n",
       "20151028         NaN\n",
       "20151029         NaN\n",
       "20151030         NaN\n",
       "20151102         NaN\n",
       "20151103         NaN\n",
       "20151104         NaN\n",
       "20151105         NaN\n",
       "20151106         NaN\n",
       "20151109         NaN\n",
       "20151110         NaN\n",
       "20151111         NaN\n",
       "20151112         NaN\n",
       "20151113         NaN\n",
       "20151116         NaN\n",
       "20151117         NaN\n",
       "20151118         NaN\n",
       "20151119         NaN\n",
       "20151120         NaN\n",
       "20151123         NaN\n",
       "20151124         NaN\n",
       "20151125         NaN\n",
       "20151126         NaN\n",
       "20151127         NaN\n",
       "20151130         NaN\n",
       "20151201         NaN\n",
       "20151202         NaN\n",
       "20151203         NaN\n",
       "20151204         NaN\n",
       "20151207    0.099733\n",
       "20151208    0.100405\n",
       "20151209   -0.029433\n",
       "20151210   -0.043973\n",
       "20151211   -0.030928\n",
       "20151214    0.031915\n",
       "20151215   -0.018239\n",
       "20151216    0.010501\n",
       "20151217    0.013589\n",
       "20151218   -0.020505\n",
       "20151221    0.000805\n",
       "20151222   -0.003218\n",
       "Name: 601727, dtype: float64"
      ]
     },
     "execution_count": 48,
     "metadata": {},
     "output_type": "execute_result"
    }
   ],
   "source": [
    "today_daily_return['601727']"
   ]
  },
  {
   "cell_type": "code",
   "execution_count": null,
   "metadata": {},
   "outputs": [],
   "source": []
  },
  {
   "cell_type": "code",
   "execution_count": null,
   "metadata": {},
   "outputs": [],
   "source": []
  },
  {
   "cell_type": "code",
   "execution_count": 47,
   "metadata": {},
   "outputs": [
    {
     "data": {
      "text/plain": [
       "stock\n",
       "000001     0\n",
       "000009     0\n",
       "000027     0\n",
       "000039     0\n",
       "000046     0\n",
       "000060     0\n",
       "000061     0\n",
       "000063     0\n",
       "000069     0\n",
       "000100     0\n",
       "000156     0\n",
       "000157     0\n",
       "000166     0\n",
       "000333     0\n",
       "000338     0\n",
       "000400     0\n",
       "000402     0\n",
       "000413     0\n",
       "000415     5\n",
       "000423     0\n",
       "000425     0\n",
       "000503     0\n",
       "000538     0\n",
       "000539     0\n",
       "000540    13\n",
       "000559     0\n",
       "000568     0\n",
       "000581     0\n",
       "000598     0\n",
       "000623     0\n",
       "          ..\n",
       "601688     0\n",
       "601699     0\n",
       "601718     0\n",
       "601727    42\n",
       "601766     0\n",
       "601788     0\n",
       "601800     0\n",
       "601808     0\n",
       "601818     3\n",
       "601857     0\n",
       "601872     0\n",
       "601888     0\n",
       "601898     0\n",
       "601899     0\n",
       "601901     0\n",
       "601928     0\n",
       "601933     0\n",
       "601939     0\n",
       "601958     0\n",
       "601969     1\n",
       "601985     0\n",
       "601988     0\n",
       "601989     0\n",
       "601991     0\n",
       "601992     0\n",
       "601998     2\n",
       "603000     0\n",
       "603288     0\n",
       "603885     0\n",
       "603993     0\n",
       "Length: 284, dtype: int64"
      ]
     },
     "execution_count": 47,
     "metadata": {},
     "output_type": "execute_result"
    }
   ],
   "source": [
    "np.sum(np.isnan(today_daily_return))"
   ]
  },
  {
   "cell_type": "code",
   "execution_count": null,
   "metadata": {},
   "outputs": [],
   "source": []
  },
  {
   "cell_type": "code",
   "execution_count": null,
   "metadata": {},
   "outputs": [],
   "source": []
  },
  {
   "cell_type": "code",
   "execution_count": null,
   "metadata": {},
   "outputs": [],
   "source": []
  },
  {
   "cell_type": "code",
   "execution_count": null,
   "metadata": {},
   "outputs": [],
   "source": []
  },
  {
   "cell_type": "code",
   "execution_count": null,
   "metadata": {},
   "outputs": [],
   "source": []
  },
  {
   "cell_type": "code",
   "execution_count": null,
   "metadata": {},
   "outputs": [],
   "source": []
  },
  {
   "cell_type": "code",
   "execution_count": null,
   "metadata": {},
   "outputs": [],
   "source": [
    "\n",
    "\n",
    "cov = self.get_cov(today_daily_return)\n",
    "pi = self.get_pi(today_stock, today_risk_free, today_mkt_return, today_daily_return)\n",
    "q, P, Omega = self.get_q_P_Omega(pred_data, today_mean_cum_returns)\n",
    "\n",
    "# miu\n",
    "first_part = ((self.tau * cov).I + np.matrix(np.dot(np.dot(P.T, 1/Omega), P))).I\n",
    "second_part = np.dot((self.tau * cov).I, pi) + np.dot(np.dot(P.T, 1/Omega), q)\n",
    "miu = np.dot(first_part, second_part)\n",
    "\n",
    "# V\n",
    "V = first_part\n",
    "\n",
    "PP = matrix(self.delta * V)\n",
    "qq = matrix(-1 * pi)\n",
    "GG = matrix(np.concatenate((-1 * np.eye(len(pi)), np.eye(len(pi)))))\n",
    "hh = matrix(np.concatenate((0.2 * np.ones(len(pi)), 0.2 * np.ones(len(pi)))))\n",
    "# hh = matrix(np.concatenate((np.zeros(len(pi)), 0.02 * np.ones(len(pi)))))\n",
    "AA = matrix(np.ones(len(pi)).reshape(1, -1))\n",
    "bb = matrix([1.0])\n",
    "\n",
    "solvers.options['show_progress'] = False\n",
    "sol = solvers.qp(PP, qq, GG, hh, AA, bb)\n",
    "\n",
    "x = np.array(sol['x'])\n",
    "\n",
    "print(index, \"\\t\", np.max(x), \"\\t\", np.min(x))"
   ]
  },
  {
   "cell_type": "code",
   "execution_count": null,
   "metadata": {},
   "outputs": [],
   "source": []
  },
  {
   "cell_type": "code",
   "execution_count": null,
   "metadata": {},
   "outputs": [],
   "source": []
  },
  {
   "cell_type": "code",
   "execution_count": null,
   "metadata": {},
   "outputs": [],
   "source": []
  },
  {
   "cell_type": "code",
   "execution_count": 80,
   "metadata": {},
   "outputs": [
    {
     "name": "stdout",
     "output_type": "stream",
     "text": [
      "0 \t 0.19999999697573026 \t -0.19999999435092136\n",
      "1 \t 0.19999999820384823 \t -0.19999999767364393\n",
      "2 \t 0.19996513636424137 \t -0.19995423922126312\n",
      "3 \t 0.19999999293748622 \t -0.19999999164206894\n",
      "4 \t 0.19999994241906868 \t -0.19999993593301196\n",
      "5 \t 0.19999992783560977 \t -0.19999992657528784\n",
      "6 \t 0.1999999993137727 \t -0.19999999883385436\n",
      "7 \t 0.1999999680672367 \t -0.19999997153775326\n",
      "8 \t 0.19999999619667516 \t -0.19999999747852387\n",
      "9 \t 0.199998945722579 \t -0.19999937011341876\n",
      "10 \t 0.19999754081496307 \t -0.19999947111547559\n",
      "11 \t 0.19999999223401144 \t -0.19999997935145827\n",
      "12 \t 0.19999999687907855 \t -0.1999999902161759\n",
      "13 \t 0.19999998953895523 \t -0.19999997834651653\n",
      "14 \t 0.19999999691238488 \t -0.199999988758196\n",
      "15 \t 0.1999999967810008 \t -0.1999999891842886\n",
      "16 \t 0.1999998133504219 \t -0.19999943504260526\n",
      "17 \t 0.19818522762767193 \t -0.1383097708094352\n",
      "18 \t 0.1994302147401222 \t -0.19982180190537896\n",
      "19 \t 0.19999998030229793 \t -0.1999999868088691\n",
      "20 \t 0.19999996490577304 \t -0.19999997179424525\n",
      "21 \t 0.19999998810901787 \t -0.19999998652969186\n",
      "22 \t 0.1999997919359468 \t -0.1999996938404788\n",
      "23 \t 0.1999933168863517 \t -0.1999804057542232\n",
      "24 \t 0.19999997123363308 \t -0.1999998889275169\n",
      "25 \t 0.19999999785584552 \t -0.19999999339195104\n",
      "26 \t 0.19999998590614168 \t -0.19999999449756692\n",
      "27 \t 0.19999992305807646 \t -0.19999994405527044\n",
      "28 \t 0.07400302849217641 \t -0.04644521877642146\n",
      "29 \t 0.19999999507851834 \t -0.1999999935610401\n",
      "30 \t 0.19999997570627553 \t -0.1999999790111665\n",
      "31 \t 0.19999942929631695 \t -0.19999936895937043\n",
      "32 \t 0.19999998687895473 \t -0.19999998425741045\n",
      "33 \t 0.19999998617870393 \t -0.19999998646036637\n",
      "34 \t 0.19999999473103006 \t -0.19999999635695723\n",
      "35 \t 0.19999999833385645 \t -0.19999999738347451\n",
      "36 \t 0.1999999428978333 \t -0.19999991513309326\n",
      "37 \t 0.19999999833844148 \t -0.19999999652977313\n",
      "38 \t 0.1999998915723231 \t -0.19999990051253017\n",
      "39 \t 0.1999999976605287 \t -0.19999999797626378\n",
      "40 \t 0.19999999024351123 \t -0.19999999024203188\n",
      "41 \t 0.19999974905834186 \t -0.19999973305494176\n",
      "42 \t 0.19843875918651627 \t -0.19707652069552153\n",
      "43 \t 0.19999967050876863 \t -0.19999958964465073\n",
      "44 \t 0.199999869639512 \t -0.19999988812134473\n",
      "45 \t 0.19999999745217154 \t -0.19999999826767553\n",
      "46 \t 0.19999990103070897 \t -0.19999995364762313\n",
      "47 \t 0.19999981927951352 \t -0.1999998193336705\n",
      "48 \t 0.19999947975951785 \t -0.19999958479631713\n",
      "49 \t 0.1999999700828793 \t -0.1999999629821399\n",
      "50 \t 0.1999999852511277 \t -0.19999998333803537\n",
      "51 \t 0.1999999877812345 \t -0.1999999869996384\n",
      "52 \t 0.1999999948155229 \t -0.19999999409103322\n",
      "53 \t 0.19999999549216763 \t -0.19999999370577792\n",
      "54 \t 0.19999999047695202 \t -0.1999999889308671\n",
      "55 \t 0.1999999939834105 \t -0.19999999218967987\n",
      "56 \t 0.1999999901889784 \t -0.1999999806569056\n",
      "57 \t 0.1999999474742235 \t -0.19999991866543942\n",
      "58 \t 0.19999999666242377 \t -0.199999994186659\n",
      "59 \t 0.199999982364959 \t -0.19999995751428\n",
      "60 \t 0.19999999771455695 \t -0.19999999160031168\n",
      "61 \t 0.1999999865313707 \t -0.1999999475120324\n",
      "62 \t 0.19999999546536956 \t -0.1999999902083763\n",
      "63 \t 0.19999994522244263 \t -0.19999988188142276\n",
      "64 \t 0.19999887063542304 \t -0.19999850867291383\n",
      "65 \t 0.19999680422360122 \t -0.19999561282865536\n",
      "66 \t 0.19999994564749574 \t -0.19999995914568416\n",
      "67 \t 0.19999998894501037 \t -0.19999998969970867\n",
      "68 \t 0.19999995373284607 \t -0.19999996256117708\n",
      "69 \t 0.19999991979170734 \t -0.19999991662677838\n",
      "70 \t 0.19999998911541034 \t -0.19999998768441934\n"
     ]
    }
   ],
   "source": [
    "for index in range(len(self.days)):\n",
    "    today = self.days[index]\n",
    "    today_status = self.trade_status.loc[today]\n",
    "    today_stock = self.index_member.columns[self.index_member.loc[today] == 1.0].values\n",
    "    today_stock = np.array([stock for stock in today_stock if today_status[stock]])\n",
    "\n",
    "    i = np.where(self.return_data.index == today)[0][0]\n",
    "    today_daily_return = self.return_data.iloc[i - self.cum_freq + 1:i + 1][today_stock]\n",
    "    today_mean_cum_returns = self.mean_cum_returns.loc[today, today_stock]\n",
    "    today_mkt_return = self.market_data.iloc[i - self.cum_freq + 1:i + 1]['mkt_return']\n",
    "    today_risk_free = self.risk_free.loc[today]\n",
    "    pred_data = self.pred_data[index]\n",
    "\n",
    "    cov = self.get_cov(today_daily_return)\n",
    "    pi = self.get_pi(today_stock, today_risk_free, today_mkt_return, today_daily_return)\n",
    "    q, P, Omega = self.get_q_P_Omega(pred_data, today_mean_cum_returns)\n",
    "\n",
    "    # miu\n",
    "    first_part = ((self.tau * cov).I + np.matrix(np.dot(np.dot(P.T, 1/Omega), P))).I\n",
    "    second_part = np.dot((self.tau * cov).I, pi) + np.dot(np.dot(P.T, 1/Omega), q)\n",
    "    miu = np.dot(first_part, second_part)\n",
    "\n",
    "    # V\n",
    "    V = first_part\n",
    "\n",
    "    PP = matrix(self.delta * V)\n",
    "    qq = matrix(-1 * pi)\n",
    "    GG = matrix(np.concatenate((-1 * np.eye(len(pi)), np.eye(len(pi)))))\n",
    "    hh = matrix(np.concatenate((0.2 * np.ones(len(pi)), 0.2 * np.ones(len(pi)))))\n",
    "    # hh = matrix(np.concatenate((np.zeros(len(pi)), 0.02 * np.ones(len(pi)))))\n",
    "    AA = matrix(np.ones(len(pi)).reshape(1, -1))\n",
    "    bb = matrix([1.0])\n",
    "\n",
    "    solvers.options['show_progress'] = False\n",
    "    sol = solvers.qp(PP, qq, GG, hh, AA, bb)\n",
    "\n",
    "    x = np.array(sol['x'])\n",
    "\n",
    "    print(index, \"\\t\", np.max(x), \"\\t\", np.min(x))"
   ]
  },
  {
   "cell_type": "code",
   "execution_count": null,
   "metadata": {},
   "outputs": [],
   "source": []
  },
  {
   "cell_type": "code",
   "execution_count": 81,
   "metadata": {},
   "outputs": [],
   "source": [
    "rank = pred_data.argsort().argsort()"
   ]
  },
  {
   "cell_type": "code",
   "execution_count": 82,
   "metadata": {},
   "outputs": [
    {
     "data": {
      "text/plain": [
       "array([139,   3, 130,  81, 154, 266, 185, 233,  90, 151, 204, 190,  24,\n",
       "       119,  56,   7, 102,   5, 141,  95, 209, 170,   0, 178, 220, 282,\n",
       "       223,  97, 225, 245,  79, 198, 150, 171,   8, 131,  20, 109,  88,\n",
       "       216, 186,  28, 180, 199, 152,  10,  19,  13,  67, 138,  66,  40,\n",
       "        84,  47, 108, 269, 121,  31, 172,  52,  15,  64,  30,  11, 105,\n",
       "       127, 157,  22,  96,  51,  74, 126,  43, 122, 231,  42,  60, 116,\n",
       "        34, 110,  98, 149, 135, 217, 107, 236, 230,  54, 117,  44,  70,\n",
       "        91, 148,  39,  72, 106,  59,  35,  32,  26,  38,  57, 136, 147,\n",
       "       254, 238,  37, 241, 219, 276, 280, 248, 132, 252, 263, 212, 240,\n",
       "       250,  89, 244, 100, 163, 257, 167,  25, 210,  49, 129, 134,  46,\n",
       "       213, 160, 242,  61, 173, 206, 189, 125,  93, 165,  62, 256, 191,\n",
       "        76,  53,   2, 177,   6,  50,  99,  68, 143, 179,  58, 232, 162,\n",
       "        92, 200, 164, 133,  48,  41, 124,  14, 118, 146,  65, 184, 103,\n",
       "        29,  27,   1, 112,  55, 159, 115,  21, 137,  85,  12,  45,  63,\n",
       "         9, 182, 111,  86, 101,  33, 145, 142, 202,  87,  16, 249, 123,\n",
       "        23, 155, 174, 221,  18, 192,   4,  73, 196, 227, 268, 251, 235,\n",
       "       128,  75, 229, 156, 275, 113, 187, 166, 176, 261, 207, 197, 140,\n",
       "       144, 270, 274, 183, 222, 226, 201, 120, 161, 168, 188, 114, 285,\n",
       "       237, 278, 153, 224,  82, 262, 284, 243, 247, 239,  78, 169, 203,\n",
       "       228, 104, 272, 253, 215, 193, 175, 234, 205, 255, 281, 181, 259,\n",
       "       218, 273, 158, 211, 208,  36, 246, 271, 265, 258,  94, 283, 214,\n",
       "       277, 286, 194, 267, 195, 264, 279,  83,  80,  17,  69,  71,  77,\n",
       "       260], dtype=int64)"
      ]
     },
     "execution_count": 82,
     "metadata": {},
     "output_type": "execute_result"
    }
   ],
   "source": [
    "rank"
   ]
  },
  {
   "cell_type": "code",
   "execution_count": 83,
   "metadata": {},
   "outputs": [
    {
     "data": {
      "text/plain": [
       "(array([  3,   4,   5,   6,   7,  10,  12,  14,  15,  16,  18,  19,  20,\n",
       "         21,  27,  29,  32,  35,  38,  40,  45,  49,  51,  54,  58,  64,\n",
       "         65,  66,  70,  73,  77,  78,  80,  81,  82,  84,  85,  88,  89,\n",
       "         92,  97, 100, 104, 105, 106, 107, 108, 109, 110, 111, 113, 115,\n",
       "        118, 120, 123, 124, 126, 127, 128, 129, 132, 133, 135, 136, 138,\n",
       "        141, 142, 143, 144, 147, 151, 153, 155, 156, 157, 159, 161, 162,\n",
       "        163, 165, 167, 170, 173, 174, 175, 176, 179, 180, 182, 183, 184,\n",
       "        185, 186, 189, 190, 191, 192, 193, 194, 196, 197, 199, 200, 202,\n",
       "        203, 205, 206, 208, 209, 211, 214, 215, 217, 222, 223, 224, 227,\n",
       "        228, 231, 233, 235, 240, 242, 244, 245, 247, 248, 249, 250, 253,\n",
       "        255, 256, 257, 261, 262, 265, 267, 270, 273, 274, 275, 276, 278,\n",
       "        279, 280, 282], dtype=int64),\n",
       " array([0, 0, 0, 0, 0, 0, 0, 0, 0, 0, 0, 0, 0, 0, 0, 0, 0, 0, 0, 0, 0, 0,\n",
       "        0, 0, 0, 0, 0, 0, 0, 0, 0, 0, 0, 0, 0, 0, 0, 0, 0, 0, 0, 0, 0, 0,\n",
       "        0, 0, 0, 0, 0, 0, 0, 0, 0, 0, 0, 0, 0, 0, 0, 0, 0, 0, 0, 0, 0, 0,\n",
       "        0, 0, 0, 0, 0, 0, 0, 0, 0, 0, 0, 0, 0, 0, 0, 0, 0, 0, 0, 0, 0, 0,\n",
       "        0, 0, 0, 0, 0, 0, 0, 0, 0, 0, 0, 0, 0, 0, 0, 0, 0, 0, 0, 0, 0, 0,\n",
       "        0, 0, 0, 0, 0, 0, 0, 0, 0, 0, 0, 0, 0, 0, 0, 0, 0, 0, 0, 0, 0, 0,\n",
       "        0, 0, 0, 0, 0, 0, 0, 0, 0, 0, 0, 0, 0, 0], dtype=int64))"
      ]
     },
     "execution_count": 83,
     "metadata": {},
     "output_type": "execute_result"
    }
   ],
   "source": [
    "np.where(x > 0.015)"
   ]
  },
  {
   "cell_type": "code",
   "execution_count": 25,
   "metadata": {},
   "outputs": [
    {
     "data": {
      "image/png": "[encoded data removed]",
      "text/plain": [
       "<Figure size 720x360 with 1 Axes>"
      ]
     },
     "metadata": {},
     "output_type": "display_data"
    }
   ],
   "source": [
    "plot(x)"
   ]
  },
  {
   "cell_type": "code",
   "execution_count": null,
   "metadata": {},
   "outputs": [],
   "source": []
  },
  {
   "cell_type": "code",
   "execution_count": null,
   "metadata": {},
   "outputs": [],
   "source": []
  },
  {
   "cell_type": "code",
   "execution_count": null,
   "metadata": {},
   "outputs": [],
   "source": []
  },
  {
   "cell_type": "code",
   "execution_count": null,
   "metadata": {},
   "outputs": [],
   "source": []
  },
  {
   "cell_type": "code",
   "execution_count": null,
   "metadata": {},
   "outputs": [],
   "source": []
  },
  {
   "cell_type": "code",
   "execution_count": 17,
   "metadata": {},
   "outputs": [
    {
     "name": "stdout",
     "output_type": "stream",
     "text": [
      "60 :\t 0.019999997828650008\n"
     ]
    }
   ],
   "source": [
    "index = 60\n",
    "today = self.days[index]\n",
    "today_status = self.trade_status.loc[today]\n",
    "today_stock = self.index_member.columns[self.index_member.loc[today] == 1.0].values\n",
    "today_stock = np.array([stock for stock in today_stock if today_status[stock]])\n",
    "\n",
    "i = np.where(self.return_data.index == today)[0][0]\n",
    "today_daily_return = self.return_data.iloc[i - self.cum_freq + 1:i + 1][today_stock]\n",
    "today_mean_cum_returns = self.mean_cum_returns.loc[today, today_stock]\n",
    "today_mkt_return = self.market_data.iloc[i - self.cum_freq + 1:i + 1]['mkt_return']\n",
    "today_risk_free = self.risk_free.loc[today]\n",
    "pred_data = self.pred_data[index]\n",
    "\n",
    "cov = self.get_cov(today_daily_return)\n",
    "pi = self.get_pi(today_stock, today_risk_free, today_mkt_return, today_daily_return)\n",
    "q, P, Omega = self.get_q_P_Omega(pred_data, today_mean_cum_returns)\n",
    "\n",
    "# miu\n",
    "first_part = ((self.tau * cov).I + np.matrix(np.dot(np.dot(P.T, 1/Omega), P))).I\n",
    "second_part = np.dot((self.tau * cov).I, pi) + np.dot(np.dot(P.T, 1/Omega), q)\n",
    "miu = np.dot(first_part, second_part)\n",
    "\n",
    "# V\n",
    "V = first_part\n",
    "\n",
    "P = matrix(self.delta * V)\n",
    "q = matrix(-1 * pi)\n",
    "G = matrix(np.concatenate((-1 * np.eye(len(pi)), np.eye(len(pi)))))\n",
    "h = matrix(np.concatenate((np.zeros(len(pi)), 0.02 * np.ones(len(pi)))))\n",
    "# h = matrix(np.concatenate((0.02 * np.ones(len(pi)), 0.02 * np.ones(len(pi)))))\n",
    "# A = matrix(np.ones(len(pi)).reshape(1, -1))\n",
    "# b = matrix([1.0])\n",
    "\n",
    "solvers.options['show_progress'] = False\n",
    "sol = solvers.qp(P,q,G,h)#,A,b) \n",
    "\n",
    "x = np.array(sol['x'])\n",
    "\n",
    "print(index, \":\\t\", np.max(x))"
   ]
  },
  {
   "cell_type": "code",
   "execution_count": 18,
   "metadata": {},
   "outputs": [
    {
     "data": {
      "text/plain": [
       "risk_free    0.0041\n",
       "Name: 20171213, dtype: float64"
      ]
     },
     "execution_count": 18,
     "metadata": {},
     "output_type": "execute_result"
    }
   ],
   "source": [
    "today_risk_free"
   ]
  },
  {
   "cell_type": "code",
   "execution_count": null,
   "metadata": {},
   "outputs": [],
   "source": []
  },
  {
   "cell_type": "code",
   "execution_count": 19,
   "metadata": {},
   "outputs": [
    {
     "data": {
      "text/plain": [
       "array([-0.00319627])"
      ]
     },
     "execution_count": 19,
     "metadata": {},
     "output_type": "execute_result"
    }
   ],
   "source": [
    "mean_mkt_return - "
   ]
  },
  {
   "cell_type": "code",
   "execution_count": 16,
   "metadata": {},
   "outputs": [
    {
     "ename": "ValueError",
     "evalue": "Length of passed values is 287, index implies 1",
     "output_type": "error",
     "traceback": [
      "\u001b[1;31m---------------------------------------------------------------------------\u001b[0m",
      "\u001b[1;31mValueError\u001b[0m                                Traceback (most recent call last)",
      "\u001b[1;32m<ipython-input-16-9ed093a0423f>\u001b[0m in \u001b[0;36m<module>\u001b[1;34m()\u001b[0m\n\u001b[1;32m----> 1\u001b[1;33m \u001b[0mbetas\u001b[0m \u001b[1;33m*\u001b[0m \u001b[1;33m(\u001b[0m\u001b[0mmean_mkt_return\u001b[0m \u001b[1;33m-\u001b[0m \u001b[0mtoday_risk_free\u001b[0m\u001b[1;33m)\u001b[0m\u001b[1;33m\u001b[0m\u001b[0m\n\u001b[0m",
      "\u001b[1;32mC:\\Anaconda3\\lib\\site-packages\\pandas\\core\\ops.py\u001b[0m in \u001b[0;36mwrapper\u001b[1;34m(left, right)\u001b[0m\n\u001b[0;32m   1069\u001b[0m         \u001b[0mresult\u001b[0m \u001b[1;33m=\u001b[0m \u001b[0msafe_na_op\u001b[0m\u001b[1;33m(\u001b[0m\u001b[0mlvalues\u001b[0m\u001b[1;33m,\u001b[0m \u001b[0mrvalues\u001b[0m\u001b[1;33m)\u001b[0m\u001b[1;33m\u001b[0m\u001b[0m\n\u001b[0;32m   1070\u001b[0m         return construct_result(left, result,\n\u001b[1;32m-> 1071\u001b[1;33m                                 index=left.index, name=res_name, dtype=None)\n\u001b[0m\u001b[0;32m   1072\u001b[0m \u001b[1;33m\u001b[0m\u001b[0m\n\u001b[0;32m   1073\u001b[0m     \u001b[1;32mreturn\u001b[0m \u001b[0mwrapper\u001b[0m\u001b[1;33m\u001b[0m\u001b[0m\n",
      "\u001b[1;32mC:\\Anaconda3\\lib\\site-packages\\pandas\\core\\ops.py\u001b[0m in \u001b[0;36m_construct_result\u001b[1;34m(left, result, index, name, dtype)\u001b[0m\n\u001b[0;32m    978\u001b[0m     \u001b[1;32mnot\u001b[0m \u001b[0mbe\u001b[0m \u001b[0menough\u001b[0m\u001b[1;33m;\u001b[0m \u001b[0mwe\u001b[0m \u001b[0mstill\u001b[0m \u001b[0mneed\u001b[0m \u001b[0mto\u001b[0m \u001b[0moverride\u001b[0m \u001b[0mthe\u001b[0m \u001b[0mname\u001b[0m \u001b[0mattribute\u001b[0m\u001b[1;33m.\u001b[0m\u001b[1;33m\u001b[0m\u001b[0m\n\u001b[0;32m    979\u001b[0m     \"\"\"\n\u001b[1;32m--> 980\u001b[1;33m     \u001b[0mout\u001b[0m \u001b[1;33m=\u001b[0m \u001b[0mleft\u001b[0m\u001b[1;33m.\u001b[0m\u001b[0m_constructor\u001b[0m\u001b[1;33m(\u001b[0m\u001b[0mresult\u001b[0m\u001b[1;33m,\u001b[0m \u001b[0mindex\u001b[0m\u001b[1;33m=\u001b[0m\u001b[0mindex\u001b[0m\u001b[1;33m,\u001b[0m \u001b[0mdtype\u001b[0m\u001b[1;33m=\u001b[0m\u001b[0mdtype\u001b[0m\u001b[1;33m)\u001b[0m\u001b[1;33m\u001b[0m\u001b[0m\n\u001b[0m\u001b[0;32m    981\u001b[0m \u001b[1;33m\u001b[0m\u001b[0m\n\u001b[0;32m    982\u001b[0m     \u001b[0mout\u001b[0m\u001b[1;33m.\u001b[0m\u001b[0mname\u001b[0m \u001b[1;33m=\u001b[0m \u001b[0mname\u001b[0m\u001b[1;33m\u001b[0m\u001b[0m\n",
      "\u001b[1;32mC:\\Anaconda3\\lib\\site-packages\\pandas\\core\\series.py\u001b[0m in \u001b[0;36m__init__\u001b[1;34m(self, data, index, dtype, name, copy, fastpath)\u001b[0m\n\u001b[0;32m    260\u001b[0m                             \u001b[1;34m'Length of passed values is {val}, '\u001b[0m\u001b[1;33m\u001b[0m\u001b[0m\n\u001b[0;32m    261\u001b[0m                             \u001b[1;34m'index implies {ind}'\u001b[0m\u001b[1;33m\u001b[0m\u001b[0m\n\u001b[1;32m--> 262\u001b[1;33m                             .format(val=len(data), ind=len(index)))\n\u001b[0m\u001b[0;32m    263\u001b[0m                 \u001b[1;32mexcept\u001b[0m \u001b[0mTypeError\u001b[0m\u001b[1;33m:\u001b[0m\u001b[1;33m\u001b[0m\u001b[0m\n\u001b[0;32m    264\u001b[0m                     \u001b[1;32mpass\u001b[0m\u001b[1;33m\u001b[0m\u001b[0m\n",
      "\u001b[1;31mValueError\u001b[0m: Length of passed values is 287, index implies 1"
     ]
    }
   ],
   "source": [
    "betas * (mean_mkt_return - today_risk_free)"
   ]
  },
  {
   "cell_type": "code",
   "execution_count": 15,
   "metadata": {},
   "outputs": [
    {
     "ename": "ValueError",
     "evalue": "Length of passed values is 287, index implies 1",
     "output_type": "error",
     "traceback": [
      "\u001b[1;31m---------------------------------------------------------------------------\u001b[0m",
      "\u001b[1;31mValueError\u001b[0m                                Traceback (most recent call last)",
      "\u001b[1;32m<ipython-input-15-c10ab77f0f8a>\u001b[0m in \u001b[0;36m<module>\u001b[1;34m()\u001b[0m\n\u001b[0;32m      8\u001b[0m \u001b[0mbetas\u001b[0m \u001b[1;33m=\u001b[0m \u001b[0mnp\u001b[0m\u001b[1;33m.\u001b[0m\u001b[0marray\u001b[0m\u001b[1;33m(\u001b[0m\u001b[0mbetas\u001b[0m\u001b[1;33m)\u001b[0m \u001b[1;33m/\u001b[0m \u001b[0mvar_mkt_return\u001b[0m\u001b[1;33m\u001b[0m\u001b[0m\n\u001b[0;32m      9\u001b[0m \u001b[1;33m\u001b[0m\u001b[0m\n\u001b[1;32m---> 10\u001b[1;33m \u001b[0mpi\u001b[0m \u001b[1;33m=\u001b[0m \u001b[0mbetas\u001b[0m \u001b[1;33m*\u001b[0m \u001b[1;33m(\u001b[0m\u001b[0mmean_mkt_return\u001b[0m \u001b[1;33m-\u001b[0m \u001b[0mtoday_risk_free\u001b[0m\u001b[1;33m)\u001b[0m \u001b[1;33m+\u001b[0m \u001b[0mtoday_risk_free\u001b[0m\u001b[1;33m\u001b[0m\u001b[0m\n\u001b[0m",
      "\u001b[1;32mC:\\Anaconda3\\lib\\site-packages\\pandas\\core\\ops.py\u001b[0m in \u001b[0;36mwrapper\u001b[1;34m(left, right)\u001b[0m\n\u001b[0;32m   1069\u001b[0m         \u001b[0mresult\u001b[0m \u001b[1;33m=\u001b[0m \u001b[0msafe_na_op\u001b[0m\u001b[1;33m(\u001b[0m\u001b[0mlvalues\u001b[0m\u001b[1;33m,\u001b[0m \u001b[0mrvalues\u001b[0m\u001b[1;33m)\u001b[0m\u001b[1;33m\u001b[0m\u001b[0m\n\u001b[0;32m   1070\u001b[0m         return construct_result(left, result,\n\u001b[1;32m-> 1071\u001b[1;33m                                 index=left.index, name=res_name, dtype=None)\n\u001b[0m\u001b[0;32m   1072\u001b[0m \u001b[1;33m\u001b[0m\u001b[0m\n\u001b[0;32m   1073\u001b[0m     \u001b[1;32mreturn\u001b[0m \u001b[0mwrapper\u001b[0m\u001b[1;33m\u001b[0m\u001b[0m\n",
      "\u001b[1;32mC:\\Anaconda3\\lib\\site-packages\\pandas\\core\\ops.py\u001b[0m in \u001b[0;36m_construct_result\u001b[1;34m(left, result, index, name, dtype)\u001b[0m\n\u001b[0;32m    978\u001b[0m     \u001b[1;32mnot\u001b[0m \u001b[0mbe\u001b[0m \u001b[0menough\u001b[0m\u001b[1;33m;\u001b[0m \u001b[0mwe\u001b[0m \u001b[0mstill\u001b[0m \u001b[0mneed\u001b[0m \u001b[0mto\u001b[0m \u001b[0moverride\u001b[0m \u001b[0mthe\u001b[0m \u001b[0mname\u001b[0m \u001b[0mattribute\u001b[0m\u001b[1;33m.\u001b[0m\u001b[1;33m\u001b[0m\u001b[0m\n\u001b[0;32m    979\u001b[0m     \"\"\"\n\u001b[1;32m--> 980\u001b[1;33m     \u001b[0mout\u001b[0m \u001b[1;33m=\u001b[0m \u001b[0mleft\u001b[0m\u001b[1;33m.\u001b[0m\u001b[0m_constructor\u001b[0m\u001b[1;33m(\u001b[0m\u001b[0mresult\u001b[0m\u001b[1;33m,\u001b[0m \u001b[0mindex\u001b[0m\u001b[1;33m=\u001b[0m\u001b[0mindex\u001b[0m\u001b[1;33m,\u001b[0m \u001b[0mdtype\u001b[0m\u001b[1;33m=\u001b[0m\u001b[0mdtype\u001b[0m\u001b[1;33m)\u001b[0m\u001b[1;33m\u001b[0m\u001b[0m\n\u001b[0m\u001b[0;32m    981\u001b[0m \u001b[1;33m\u001b[0m\u001b[0m\n\u001b[0;32m    982\u001b[0m     \u001b[0mout\u001b[0m\u001b[1;33m.\u001b[0m\u001b[0mname\u001b[0m \u001b[1;33m=\u001b[0m \u001b[0mname\u001b[0m\u001b[1;33m\u001b[0m\u001b[0m\n",
      "\u001b[1;32mC:\\Anaconda3\\lib\\site-packages\\pandas\\core\\series.py\u001b[0m in \u001b[0;36m__init__\u001b[1;34m(self, data, index, dtype, name, copy, fastpath)\u001b[0m\n\u001b[0;32m    260\u001b[0m                             \u001b[1;34m'Length of passed values is {val}, '\u001b[0m\u001b[1;33m\u001b[0m\u001b[0m\n\u001b[0;32m    261\u001b[0m                             \u001b[1;34m'index implies {ind}'\u001b[0m\u001b[1;33m\u001b[0m\u001b[0m\n\u001b[1;32m--> 262\u001b[1;33m                             .format(val=len(data), ind=len(index)))\n\u001b[0m\u001b[0;32m    263\u001b[0m                 \u001b[1;32mexcept\u001b[0m \u001b[0mTypeError\u001b[0m\u001b[1;33m:\u001b[0m\u001b[1;33m\u001b[0m\u001b[0m\n\u001b[0;32m    264\u001b[0m                     \u001b[1;32mpass\u001b[0m\u001b[1;33m\u001b[0m\u001b[0m\n",
      "\u001b[1;31mValueError\u001b[0m: Length of passed values is 287, index implies 1"
     ]
    }
   ],
   "source": [
    "mean_mkt_return = np.mean(today_mkt_return)\n",
    "var_mkt_return = np.var(today_mkt_return)\n",
    "\n",
    "betas = []\n",
    "for stock in today_stock:\n",
    "    beta = np.cov(today_daily_return[stock], today_mkt_return)\n",
    "    betas.append(beta[1, 0])\n",
    "betas = np.array(betas) / var_mkt_return\n",
    "\n",
    "pi = betas * (mean_mkt_return - today_risk_free) + today_risk_free"
   ]
  },
  {
   "cell_type": "code",
   "execution_count": null,
   "metadata": {},
   "outputs": [],
   "source": []
  },
  {
   "cell_type": "code",
   "execution_count": 88,
   "metadata": {},
   "outputs": [
    {
     "data": {
      "text/plain": [
       "matrix([[ 1.83942398e-03],\n",
       "        [ 1.28483210e-03],\n",
       "        [ 3.63297437e-04],\n",
       "        [ 5.32574978e-04],\n",
       "        [ 2.09388565e-03],\n",
       "        [ 1.01739981e-03],\n",
       "        [ 1.89913763e-03],\n",
       "        [ 5.13548915e-04],\n",
       "        [ 5.53794139e-04],\n",
       "        [ 2.14497525e-03],\n",
       "        [ 1.49703196e-03],\n",
       "        [ 3.62922334e-04],\n",
       "        [ 3.61812394e-04],\n",
       "        [ 4.51687281e-04],\n",
       "        [ 7.21195203e-04],\n",
       "        [ 9.43448821e-04],\n",
       "        [ 6.54481694e-04],\n",
       "        [ 1.26099416e-03],\n",
       "        [ 8.19119743e-04],\n",
       "        [ 1.76626943e-03],\n",
       "        [ 1.12879358e-03],\n",
       "        [ 4.47275212e-04],\n",
       "        [ 1.24641459e-03],\n",
       "        [ 1.72611397e-04],\n",
       "        [ 1.83893052e-03],\n",
       "        [ 8.31639937e-04],\n",
       "        [ 6.06619742e-04],\n",
       "        [ 4.25322835e-04],\n",
       "        [ 7.59828342e-05],\n",
       "        [ 2.41962730e-03],\n",
       "        [ 6.65073097e-04],\n",
       "        [ 3.78822055e-04],\n",
       "        [ 5.77363793e-04],\n",
       "        [ 2.00083225e-04],\n",
       "        [ 8.97855602e-04],\n",
       "        [ 4.66901969e-04],\n",
       "        [ 4.63254149e-04],\n",
       "        [ 5.20965845e-04],\n",
       "        [ 1.11628103e-03],\n",
       "        [ 1.69441003e-03],\n",
       "        [ 5.87690769e-04],\n",
       "        [ 9.83711640e-04],\n",
       "        [ 5.24105686e-04],\n",
       "        [ 1.44395374e-03],\n",
       "        [ 4.74663661e-04],\n",
       "        [ 1.92011921e-04],\n",
       "        [ 9.05669566e-04],\n",
       "        [ 5.21880289e-04],\n",
       "        [ 8.68918303e-04],\n",
       "        [ 6.48416087e-04],\n",
       "        [ 2.58670511e-03],\n",
       "        [ 9.03823623e-04],\n",
       "        [ 1.66038351e-03],\n",
       "        [ 1.70195679e-03],\n",
       "        [ 3.88281103e-04],\n",
       "        [ 7.78175206e-04],\n",
       "        [ 1.48394367e-03],\n",
       "        [ 9.53647648e-04],\n",
       "        [ 5.18224060e-04],\n",
       "        [ 1.16728324e-03],\n",
       "        [ 2.81103874e-04],\n",
       "        [ 1.58029061e-03],\n",
       "        [ 1.20109054e-03],\n",
       "        [ 1.64074411e-03],\n",
       "        [ 1.34053282e-03],\n",
       "        [-5.10905795e-05],\n",
       "        [ 1.02760498e-03],\n",
       "        [ 1.09650583e-03],\n",
       "        [ 1.25922189e-03],\n",
       "        [ 6.36200110e-04],\n",
       "        [ 5.80871266e-04],\n",
       "        [ 7.50355117e-04],\n",
       "        [ 9.15569319e-05],\n",
       "        [ 1.99397410e-03],\n",
       "        [ 6.25813819e-04],\n",
       "        [-2.15826383e-04],\n",
       "        [ 1.39718547e-03],\n",
       "        [ 1.53651181e-03],\n",
       "        [ 2.07202718e-04],\n",
       "        [ 1.73866526e-04],\n",
       "        [ 1.00120881e-03],\n",
       "        [ 8.10477321e-05],\n",
       "        [ 2.09917085e-03],\n",
       "        [ 7.56135357e-04],\n",
       "        [ 1.55613529e-03],\n",
       "        [ 2.32052320e-04],\n",
       "        [ 7.43217098e-04],\n",
       "        [ 1.23454078e-04],\n",
       "        [ 2.05462050e-03],\n",
       "        [ 6.23986983e-04],\n",
       "        [ 4.39208464e-04],\n",
       "        [ 5.17859242e-04],\n",
       "        [ 1.69569527e-04],\n",
       "        [ 7.45435350e-04],\n",
       "        [ 1.43326525e-03],\n",
       "        [ 5.74506693e-04],\n",
       "        [ 1.15576615e-03],\n",
       "        [ 4.04071847e-04],\n",
       "        [ 4.64249306e-04],\n",
       "        [ 1.05528689e-03],\n",
       "        [ 6.95293641e-04],\n",
       "        [ 4.75519046e-04],\n",
       "        [ 7.19012819e-04],\n",
       "        [ 2.91117133e-05],\n",
       "        [ 8.08202524e-04],\n",
       "        [ 1.51465430e-03],\n",
       "        [ 5.20267221e-04],\n",
       "        [ 7.65379535e-04],\n",
       "        [ 1.31565871e-04],\n",
       "        [ 1.32131596e-03],\n",
       "        [ 1.62896986e-03],\n",
       "        [ 5.06065611e-04],\n",
       "        [-1.45033787e-06],\n",
       "        [ 3.08434478e-04],\n",
       "        [ 4.14518362e-04],\n",
       "        [ 9.75232016e-05],\n",
       "        [ 9.93533697e-04],\n",
       "        [ 7.01106636e-04],\n",
       "        [-1.03069891e-04],\n",
       "        [ 2.80839859e-04],\n",
       "        [ 3.22471644e-04],\n",
       "        [ 3.08285692e-04],\n",
       "        [ 9.32699937e-04],\n",
       "        [ 6.35728546e-05],\n",
       "        [ 1.93549530e-04],\n",
       "        [ 1.26242565e-04],\n",
       "        [ 1.13114864e-03],\n",
       "        [ 1.06365883e-03],\n",
       "        [ 1.00031698e-03],\n",
       "        [ 9.90195633e-04],\n",
       "        [ 2.74818261e-04],\n",
       "        [ 4.95070166e-04],\n",
       "        [ 9.84841726e-04],\n",
       "        [ 2.91318732e-04],\n",
       "        [ 1.15132564e-03],\n",
       "        [ 5.62942930e-04],\n",
       "        [ 9.15190265e-04],\n",
       "        [ 1.03346346e-03],\n",
       "        [ 6.47883295e-04],\n",
       "        [ 1.18283340e-03],\n",
       "        [ 5.03026996e-04],\n",
       "        [ 6.73035966e-04],\n",
       "        [ 8.58537804e-04],\n",
       "        [ 2.80017696e-04],\n",
       "        [ 5.07227831e-04],\n",
       "        [ 1.88739573e-04],\n",
       "        [ 3.45135980e-04],\n",
       "        [ 9.06097472e-04],\n",
       "        [ 1.10059845e-03],\n",
       "        [ 1.73208445e-04],\n",
       "        [ 1.27939680e-04],\n",
       "        [ 3.84387856e-04],\n",
       "        [ 2.55247132e-04],\n",
       "        [ 9.50101797e-04],\n",
       "        [ 1.19061522e-03],\n",
       "        [ 1.22895699e-03],\n",
       "        [ 2.29371992e-04],\n",
       "        [ 7.78976232e-04],\n",
       "        [ 2.65094181e-04],\n",
       "        [ 5.94494941e-04],\n",
       "        [ 2.95521842e-04],\n",
       "        [ 3.45268784e-04],\n",
       "        [ 3.92082536e-04],\n",
       "        [ 6.58400767e-04],\n",
       "        [ 5.48771494e-04],\n",
       "        [ 1.31125464e-03],\n",
       "        [ 3.77107455e-04],\n",
       "        [ 1.17674902e-03],\n",
       "        [ 7.55473327e-04],\n",
       "        [ 1.03511562e-04],\n",
       "        [ 2.01039559e-03],\n",
       "        [ 6.11653699e-04],\n",
       "        [ 1.04707469e-03],\n",
       "        [ 1.18407122e-03],\n",
       "        [ 7.31859789e-04],\n",
       "        [ 1.47638410e-04],\n",
       "        [ 6.62039651e-04],\n",
       "        [ 1.48191750e-03],\n",
       "        [ 3.93360677e-04],\n",
       "        [ 5.01646709e-04],\n",
       "        [ 1.21168131e-03],\n",
       "        [ 7.56250387e-04],\n",
       "        [ 2.80146206e-04],\n",
       "        [ 1.94972340e-04],\n",
       "        [ 1.05146913e-03],\n",
       "        [ 1.18962082e-04],\n",
       "        [ 7.61400122e-04],\n",
       "        [ 3.67208746e-04],\n",
       "        [ 1.93765172e-03],\n",
       "        [ 1.64368737e-03],\n",
       "        [ 8.97281773e-04],\n",
       "        [ 5.53211267e-04],\n",
       "        [ 5.33477943e-04],\n",
       "        [ 1.36811410e-03],\n",
       "        [ 3.32348671e-04],\n",
       "        [ 6.92194867e-04],\n",
       "        [ 2.54732213e-04],\n",
       "        [ 1.21012689e-04],\n",
       "        [ 6.98077664e-04],\n",
       "        [ 4.64796110e-04],\n",
       "        [ 2.70796809e-04],\n",
       "        [ 5.05626042e-04],\n",
       "        [ 1.62207525e-03],\n",
       "        [ 2.57108223e-04],\n",
       "        [ 2.08518567e-04],\n",
       "        [ 4.69326016e-04],\n",
       "        [ 7.67755348e-04],\n",
       "        [ 5.82312029e-04],\n",
       "        [ 4.55045607e-04],\n",
       "        [ 7.37239212e-04],\n",
       "        [-1.96625702e-05],\n",
       "        [ 2.35409513e-04],\n",
       "        [ 7.61951894e-04],\n",
       "        [ 5.97040036e-04],\n",
       "        [ 3.16956716e-04],\n",
       "        [ 3.01582653e-03],\n",
       "        [-9.26768846e-06],\n",
       "        [ 1.36579499e-03],\n",
       "        [ 6.19056718e-04],\n",
       "        [ 3.10251356e-04],\n",
       "        [ 1.23653199e-03],\n",
       "        [ 3.11337308e-04],\n",
       "        [ 5.36199746e-04],\n",
       "        [ 1.05571780e-03],\n",
       "        [ 3.48585853e-04],\n",
       "        [ 3.84915638e-04],\n",
       "        [ 1.90124547e-04],\n",
       "        [ 4.50696637e-04],\n",
       "        [ 5.00816449e-04],\n",
       "        [ 5.24227013e-04],\n",
       "        [ 1.28486050e-04],\n",
       "        [ 5.58089562e-04],\n",
       "        [ 6.20548393e-04],\n",
       "        [ 5.85211108e-04],\n",
       "        [ 5.69089515e-04],\n",
       "        [ 9.99663243e-07],\n",
       "        [ 1.77809326e-03],\n",
       "        [ 7.18311067e-05],\n",
       "        [ 4.85510873e-04],\n",
       "        [ 1.28557316e-03],\n",
       "        [ 6.35639944e-04],\n",
       "        [ 5.75353366e-04],\n",
       "        [ 2.91686766e-04],\n",
       "        [ 4.15590081e-04],\n",
       "        [ 3.86116232e-04],\n",
       "        [ 1.21144577e-03],\n",
       "        [ 6.97995836e-04],\n",
       "        [ 5.66451924e-04],\n",
       "        [ 3.87035134e-05],\n",
       "        [ 1.45417905e-04],\n",
       "        [ 8.64964056e-04],\n",
       "        [ 1.82773625e-04],\n",
       "        [ 4.66938838e-04],\n",
       "        [ 1.46696403e-04],\n",
       "        [ 8.67013386e-04],\n",
       "        [ 1.23065409e-04],\n",
       "        [ 5.28586241e-04],\n",
       "        [ 3.83555369e-04],\n",
       "        [ 4.00840589e-04],\n",
       "        [ 2.16085956e-04],\n",
       "        [ 2.62203216e-04],\n",
       "        [ 4.04915334e-04],\n",
       "        [ 4.51023925e-04],\n",
       "        [ 5.45058338e-04],\n",
       "        [ 1.82154949e-03],\n",
       "        [ 7.80780849e-04],\n",
       "        [ 8.75021779e-04],\n",
       "        [ 1.61776961e-03],\n",
       "        [ 2.57308107e-04],\n",
       "        [-1.00002088e-04],\n",
       "        [ 5.14906376e-04],\n",
       "        [ 1.05346962e-03],\n",
       "        [ 3.09549391e-04],\n",
       "        [ 3.03210051e-04],\n",
       "        [ 6.62314549e-04],\n",
       "        [ 1.36381925e-04],\n",
       "        [ 2.22913826e-04],\n",
       "        [ 4.90987703e-04],\n",
       "        [ 3.41183993e-04],\n",
       "        [ 2.75423849e-05],\n",
       "        [ 5.93032273e-04],\n",
       "        [ 4.81334557e-04],\n",
       "        [ 1.09040490e-04],\n",
       "        [ 3.87531451e-04],\n",
       "        [ 8.21508762e-04],\n",
       "        [ 3.97566387e-04],\n",
       "        [-1.66681518e-06]])"
      ]
     },
     "execution_count": 88,
     "metadata": {},
     "output_type": "execute_result"
    }
   ],
   "source": [
    "pi"
   ]
  },
  {
   "cell_type": "code",
   "execution_count": null,
   "metadata": {},
   "outputs": [],
   "source": []
  },
  {
   "cell_type": "code",
   "execution_count": null,
   "metadata": {},
   "outputs": [],
   "source": []
  },
  {
   "cell_type": "code",
   "execution_count": null,
   "metadata": {},
   "outputs": [],
   "source": []
  },
  {
   "cell_type": "code",
   "execution_count": null,
   "metadata": {},
   "outputs": [],
   "source": []
  },
  {
   "cell_type": "code",
   "execution_count": 37,
   "metadata": {},
   "outputs": [
    {
     "data": {
      "text/plain": [
       "array([0])"
      ]
     },
     "execution_count": 37,
     "metadata": {},
     "output_type": "execute_result"
    }
   ],
   "source": [
    "sum(x>0.0015)"
   ]
  },
  {
   "cell_type": "code",
   "execution_count": 38,
   "metadata": {},
   "outputs": [
    {
     "data": {
      "text/plain": [
       "array([0])"
      ]
     },
     "execution_count": 38,
     "metadata": {},
     "output_type": "execute_result"
    }
   ],
   "source": [
    "sum(x<-0.015)"
   ]
  },
  {
   "cell_type": "code",
   "execution_count": 35,
   "metadata": {},
   "outputs": [
    {
     "data": {
      "image/png": "[encoded data removed]",
      "text/plain": [
       "<Figure size 720x360 with 1 Axes>"
      ]
     },
     "metadata": {},
     "output_type": "display_data"
    }
   ],
   "source": [
    "plot(x / sum(x))"
   ]
  },
  {
   "cell_type": "code",
   "execution_count": 39,
   "metadata": {},
   "outputs": [
    {
     "data": {
      "text/plain": [
       "array([4.6201998e-06])"
      ]
     },
     "execution_count": 39,
     "metadata": {},
     "output_type": "execute_result"
    }
   ],
   "source": [
    "sum(x)"
   ]
  },
  {
   "cell_type": "code",
   "execution_count": null,
   "metadata": {},
   "outputs": [],
   "source": []
  },
  {
   "cell_type": "code",
   "execution_count": null,
   "metadata": {},
   "outputs": [],
   "source": []
  },
  {
   "cell_type": "code",
   "execution_count": null,
   "metadata": {},
   "outputs": [],
   "source": []
  },
  {
   "cell_type": "code",
   "execution_count": null,
   "metadata": {},
   "outputs": [],
   "source": []
  },
  {
   "cell_type": "code",
   "execution_count": null,
   "metadata": {},
   "outputs": [],
   "source": []
  },
  {
   "cell_type": "code",
   "execution_count": null,
   "metadata": {},
   "outputs": [],
   "source": []
  },
  {
   "cell_type": "code",
   "execution_count": null,
   "metadata": {},
   "outputs": [],
   "source": []
  },
  {
   "cell_type": "code",
   "execution_count": null,
   "metadata": {},
   "outputs": [],
   "source": []
  },
  {
   "cell_type": "code",
   "execution_count": null,
   "metadata": {},
   "outputs": [],
   "source": []
  },
  {
   "cell_type": "code",
   "execution_count": 607,
   "metadata": {},
   "outputs": [
    {
     "name": "stderr",
     "output_type": "stream",
     "text": [
      "Using TensorFlow backend.\n"
     ]
    }
   ],
   "source": [
    "from model import *\n",
    "import numpy as np\n",
    "import pandas as pd\n",
    "from datetime import datetime\n",
    "import os\n",
    "import pickle as pkl"
   ]
  },
  {
   "cell_type": "code",
   "execution_count": 594,
   "metadata": {},
   "outputs": [],
   "source": [
    "with open(\"F:\\\\DeepLearning\\\\Model\\\\result_GA.pkl\", \"rb\") as file:\n",
    "    GA = pkl.load(file)"
   ]
  },
  {
   "cell_type": "code",
   "execution_count": 596,
   "metadata": {},
   "outputs": [
    {
     "data": {
      "text/plain": [
       "dict_keys(['best_factors', 'best_factorsList', 'best_probs', 'best_probsList'])"
      ]
     },
     "execution_count": 596,
     "metadata": {},
     "output_type": "execute_result"
    }
   ],
   "source": [
    "GA.keys()"
   ]
  },
  {
   "cell_type": "code",
   "execution_count": 598,
   "metadata": {},
   "outputs": [
    {
     "data": {
      "text/plain": [
       "195.0"
      ]
     },
     "execution_count": 598,
     "metadata": {},
     "output_type": "execute_result"
    }
   ],
   "source": [
    "sum(GA['best_factors'])"
   ]
  },
  {
   "cell_type": "code",
   "execution_count": 599,
   "metadata": {},
   "outputs": [
    {
     "data": {
      "text/plain": [
       "0.02009557404826736"
      ]
     },
     "execution_count": 599,
     "metadata": {},
     "output_type": "execute_result"
    }
   ],
   "source": [
    "GA['best_probs']"
   ]
  },
  {
   "cell_type": "code",
   "execution_count": 614,
   "metadata": {},
   "outputs": [],
   "source": [
    "GA_factor = GA['best_factors'].astype(np.int)"
   ]
  },
  {
   "cell_type": "code",
   "execution_count": 617,
   "metadata": {},
   "outputs": [
    {
     "data": {
      "text/plain": [
       "array([1, 1, 1, 1, 0, 1, 1, 0, 1, 1, 1, 1, 1, 1, 1, 1, 1, 1, 0, 1, 1, 1,\n",
       "       1, 1, 1, 1, 1, 1, 1, 1, 0, 1, 1, 1, 1, 1, 0, 1, 1, 1, 1, 1, 1, 1,\n",
       "       1, 1, 0, 0, 1, 1, 1, 1, 1, 1, 1, 1, 1, 1, 1, 1, 1, 1, 0, 1, 1, 0,\n",
       "       1, 1, 1, 1, 1, 0, 1, 1, 1, 1, 1, 1, 1, 1, 1, 1, 1, 1, 1, 1, 0, 1,\n",
       "       1, 1, 1, 1, 1, 1, 1, 1, 1, 1, 1, 1, 1, 1, 1, 1, 1, 1, 1, 1, 1, 1,\n",
       "       0, 1, 1, 0, 1, 1, 1, 1, 1, 1, 1, 1, 1, 1, 1, 1, 1, 1, 1, 0, 1, 1,\n",
       "       1, 1, 1, 1, 1, 1, 1, 0, 1, 1, 1, 1, 1, 0, 1, 1, 1, 0, 1, 1, 1, 1,\n",
       "       1, 1, 0, 1, 0, 1, 1, 1, 1, 0, 0, 1, 1, 1, 1, 1, 1, 0, 1, 1, 1, 1,\n",
       "       1, 1, 1, 1, 0, 1, 1, 1, 1, 1, 0, 1, 1, 1, 1, 1, 1, 0, 0, 0, 1, 0,\n",
       "       1, 0, 1, 1, 1, 1, 1, 1, 1, 0, 1, 1, 1, 0, 1, 1, 1, 1, 1, 1, 1, 0,\n",
       "       1, 0, 0, 1, 1, 1, 1, 1, 1])"
      ]
     },
     "execution_count": 617,
     "metadata": {},
     "output_type": "execute_result"
    }
   ],
   "source": [
    "GA_factor"
   ]
  },
  {
   "cell_type": "code",
   "execution_count": 608,
   "metadata": {},
   "outputs": [],
   "source": [
    "modelpath = os.path.join(\"F:\\\\DeepLearning\\\\Model\", datetime.now().strftime(\"%Y%m%d-%H%M%S\"))"
   ]
  },
  {
   "cell_type": "code",
   "execution_count": 609,
   "metadata": {},
   "outputs": [],
   "source": [
    "fpath = \"F:\\\\DeepLearning\\\\Data\"\n",
    "fpath_insample = os.path.join(fpath, \"insample\")\n",
    "fpath_outsample = os.path.join(fpath, \"outsample\")\n",
    "X_train = np.load(os.path.join(fpath_insample, \"X.npy\"))\n",
    "Y_train = np.load(os.path.join(fpath_insample, \"Y.npy\"))\n",
    "X_test = np.load(os.path.join(fpath_outsample, \"X.npy\"))\n",
    "Y_test = np.load(os.path.join(fpath_outsample, \"Y.npy\"))"
   ]
  },
  {
   "cell_type": "code",
   "execution_count": null,
   "metadata": {},
   "outputs": [],
   "source": []
  },
  {
   "cell_type": "code",
   "execution_count": null,
   "metadata": {},
   "outputs": [],
   "source": []
  },
  {
   "cell_type": "code",
   "execution_count": 625,
   "metadata": {},
   "outputs": [
    {
     "data": {
      "text/plain": [
       "(70380, 195)"
      ]
     },
     "execution_count": 625,
     "metadata": {},
     "output_type": "execute_result"
    }
   ],
   "source": [
    "X_train[:, GA_factor == 1].shape"
   ]
  },
  {
   "cell_type": "code",
   "execution_count": 626,
   "metadata": {},
   "outputs": [
    {
     "data": {
      "text/plain": [
       "229"
      ]
     },
     "execution_count": 626,
     "metadata": {},
     "output_type": "execute_result"
    }
   ],
   "source": [
    "X_train.shape[1]"
   ]
  },
  {
   "cell_type": "code",
   "execution_count": null,
   "metadata": {},
   "outputs": [],
   "source": []
  },
  {
   "cell_type": "code",
   "execution_count": null,
   "metadata": {},
   "outputs": [],
   "source": []
  },
  {
   "cell_type": "code",
   "execution_count": null,
   "metadata": {},
   "outputs": [],
   "source": []
  },
  {
   "cell_type": "code",
   "execution_count": null,
   "metadata": {},
   "outputs": [],
   "source": []
  },
  {
   "cell_type": "code",
   "execution_count": null,
   "metadata": {},
   "outputs": [],
   "source": []
  },
  {
   "cell_type": "code",
   "execution_count": 1,
   "metadata": {},
   "outputs": [],
   "source": [
    "from dataview import DataView\n",
    "import pandas as pd\n",
    "import numpy as np\n",
    "import os "
   ]
  },
  {
   "cell_type": "code",
   "execution_count": 2,
   "metadata": {},
   "outputs": [],
   "source": [
    "dv = DataView()"
   ]
  },
  {
   "cell_type": "code",
   "execution_count": 3,
   "metadata": {},
   "outputs": [],
   "source": [
    "BASICINFOR_NAME = \"basic_infor\"\n",
    "FININDICATOR_NAME = \"finIndicator\"\n",
    "TECHNICALINDEX_NAME = \"technical_index\"\n",
    "fpath = \"F:\\\\DeepLearning\\\\Data\\\\outsample\\\\\"\n",
    "\n",
    "basic_path = os.path.join(fpath, BASICINFOR_NAME)\n",
    "fin_path = os.path.join(fpath, FININDICATOR_NAME)\n",
    "tech_path = os.path.join(fpath, TECHNICALINDEX_NAME)"
   ]
  },
  {
   "cell_type": "code",
   "execution_count": 4,
   "metadata": {},
   "outputs": [
    {
     "name": "stdout",
     "output_type": "stream",
     "text": [
      "Dataview loaded successfully.\n"
     ]
    }
   ],
   "source": [
    "dv.load_dataview(basic_path)"
   ]
  },
  {
   "cell_type": "code",
   "execution_count": 6,
   "metadata": {},
   "outputs": [],
   "source": [
    "dv.data_benchmark.to_hdf(\"F:\\\\DeepLearning\\\\data\\\\outsample_total\\\\benchmark.h5\", key = \"benchmark\")"
   ]
  },
  {
   "cell_type": "code",
   "execution_count": null,
   "metadata": {},
   "outputs": [],
   "source": []
  },
  {
   "cell_type": "code",
   "execution_count": null,
   "metadata": {},
   "outputs": [],
   "source": []
  },
  {
   "cell_type": "code",
   "execution_count": 78,
   "metadata": {},
   "outputs": [
    {
     "data": {
      "text/plain": [
       "20041231"
      ]
     },
     "execution_count": 78,
     "metadata": {},
     "output_type": "execute_result"
    }
   ],
   "source": [
    "dv.start_date"
   ]
  },
  {
   "cell_type": "code",
   "execution_count": 79,
   "metadata": {},
   "outputs": [
    {
     "data": {
      "text/plain": [
       "20180701"
      ]
     },
     "execution_count": 79,
     "metadata": {},
     "output_type": "execute_result"
    }
   ],
   "source": [
    "dv.end_date"
   ]
  },
  {
   "cell_type": "code",
   "execution_count": null,
   "metadata": {},
   "outputs": [],
   "source": []
  },
  {
   "cell_type": "code",
   "execution_count": 80,
   "metadata": {},
   "outputs": [],
   "source": [
    "start_date = 20041231\n",
    "end_date = 20121231"
   ]
  },
  {
   "cell_type": "code",
   "execution_count": 81,
   "metadata": {},
   "outputs": [],
   "source": [
    "# start_date = 20121231\n",
    "# end_date = 20180701"
   ]
  },
  {
   "cell_type": "code",
   "execution_count": 82,
   "metadata": {},
   "outputs": [],
   "source": [
    "dv.reflash_data(start_date=start_date, end_date=end_date)"
   ]
  },
  {
   "cell_type": "code",
   "execution_count": 83,
   "metadata": {},
   "outputs": [],
   "source": [
    "fsavepath = \"F:\\\\DeepLearning\\\\Data\\\\insample\\\\\""
   ]
  },
  {
   "cell_type": "code",
   "execution_count": 84,
   "metadata": {},
   "outputs": [],
   "source": [
    "fffbasic_path = os.path.join(fsavepath, BASICINFOR_NAME)\n",
    "ffffin_path = os.path.join(fsavepath, FININDICATOR_NAME)\n",
    "ffftech_path = os.path.join(fsavepath, TECHNICALINDEX_NAME)"
   ]
  },
  {
   "cell_type": "code",
   "execution_count": 85,
   "metadata": {},
   "outputs": [
    {
     "data": {
      "text/plain": [
       "20041231"
      ]
     },
     "execution_count": 85,
     "metadata": {},
     "output_type": "execute_result"
    }
   ],
   "source": [
    "dv.start_date"
   ]
  },
  {
   "cell_type": "code",
   "execution_count": 86,
   "metadata": {},
   "outputs": [
    {
     "data": {
      "text/plain": [
       "20121231"
      ]
     },
     "execution_count": 86,
     "metadata": {},
     "output_type": "execute_result"
    }
   ],
   "source": [
    "dv.end_date"
   ]
  },
  {
   "cell_type": "code",
   "execution_count": 88,
   "metadata": {},
   "outputs": [
    {
     "name": "stdout",
     "output_type": "stream",
     "text": [
      "Dataview has been successfully saved to:\n",
      "F:\\DeepLearning\\Data\\insample\\basic_infor\n"
     ]
    }
   ],
   "source": [
    "dv.save_dataview(fffbasic_path)"
   ]
  },
  {
   "cell_type": "code",
   "execution_count": null,
   "metadata": {},
   "outputs": [],
   "source": []
  },
  {
   "cell_type": "code",
   "execution_count": null,
   "metadata": {},
   "outputs": [],
   "source": []
  },
  {
   "cell_type": "code",
   "execution_count": null,
   "metadata": {},
   "outputs": [],
   "source": []
  },
  {
   "cell_type": "code",
   "execution_count": 5,
   "metadata": {},
   "outputs": [],
   "source": [
    "from dataview import DataView\n",
    "import pandas as pd\n",
    "import numpy as np\n",
    "import os "
   ]
  },
  {
   "cell_type": "code",
   "execution_count": 6,
   "metadata": {},
   "outputs": [],
   "source": [
    "BASICINFOR_NAME = \"basic_infor\"\n",
    "FININDICATOR_NAME = \"finIndicator\"\n",
    "TECHNICALINDEX_NAME = \"technical_index\"\n",
    "fpath = \"F:\\\\DeepLearning\\\\Data\\\\total\\\\\"\n",
    "\n",
    "basic_path = os.path.join(fpath, BASICINFOR_NAME)\n",
    "fin_path = os.path.join(fpath, FININDICATOR_NAME)\n",
    "tech_path = os.path.join(fpath, TECHNICALINDEX_NAME)"
   ]
  },
  {
   "cell_type": "code",
   "execution_count": 7,
   "metadata": {},
   "outputs": [
    {
     "name": "stdout",
     "output_type": "stream",
     "text": [
      "Dataview loaded successfully.\n"
     ]
    }
   ],
   "source": [
    "dv = DataView()\n",
    "dv.load_dataview(basic_path)"
   ]
  },
  {
   "cell_type": "code",
   "execution_count": null,
   "metadata": {},
   "outputs": [],
   "source": []
  },
  {
   "cell_type": "code",
   "execution_count": null,
   "metadata": {},
   "outputs": [],
   "source": []
  },
  {
   "cell_type": "code",
   "execution_count": null,
   "metadata": {},
   "outputs": [],
   "source": []
  },
  {
   "cell_type": "code",
   "execution_count": null,
   "metadata": {},
   "outputs": [],
   "source": []
  },
  {
   "cell_type": "code",
   "execution_count": 120,
   "metadata": {},
   "outputs": [
    {
     "name": "stdout",
     "output_type": "stream",
     "text": [
      "Dataview loaded successfully.\n"
     ]
    }
   ],
   "source": [
    "dvnew = DataView()\n",
    "dvnew.load_dataview(tech_path)"
   ]
  },
  {
   "cell_type": "code",
   "execution_count": 121,
   "metadata": {},
   "outputs": [
    {
     "data": {
      "text/plain": [
       "123"
      ]
     },
     "execution_count": 121,
     "metadata": {},
     "output_type": "execute_result"
    }
   ],
   "source": [
    "len(dv.fields)"
   ]
  },
  {
   "cell_type": "code",
   "execution_count": 122,
   "metadata": {},
   "outputs": [
    {
     "data": {
      "text/plain": [
       "106"
      ]
     },
     "execution_count": 122,
     "metadata": {},
     "output_type": "execute_result"
    }
   ],
   "source": [
    "len(dvnew.fields)"
   ]
  },
  {
   "cell_type": "code",
   "execution_count": 123,
   "metadata": {},
   "outputs": [],
   "source": [
    "dv.data_d = pd.merge(dv.data_d, dvnew.data_d, left_index=True, right_index=True, how='left')"
   ]
  },
  {
   "cell_type": "code",
   "execution_count": 124,
   "metadata": {},
   "outputs": [],
   "source": [
    "dv.data_d = dv.data_d.sort_index(axis=1)"
   ]
  },
  {
   "cell_type": "code",
   "execution_count": 125,
   "metadata": {},
   "outputs": [],
   "source": [
    "dv.data_d.columns = dv.data_d.columns.remove_unused_levels()"
   ]
  },
  {
   "cell_type": "code",
   "execution_count": 126,
   "metadata": {},
   "outputs": [],
   "source": [
    "dv.fields = dv.fields + dvnew.fields"
   ]
  },
  {
   "cell_type": "code",
   "execution_count": 127,
   "metadata": {},
   "outputs": [
    {
     "name": "stdout",
     "output_type": "stream",
     "text": [
      "Dataview has been successfully saved to:\n",
      "F:\\DeepLearning\\Data\\insample\n"
     ]
    }
   ],
   "source": [
    "dv.save_dataview(fpath)"
   ]
  },
  {
   "cell_type": "code",
   "execution_count": null,
   "metadata": {},
   "outputs": [],
   "source": []
  },
  {
   "cell_type": "code",
   "execution_count": null,
   "metadata": {},
   "outputs": [],
   "source": []
  },
  {
   "cell_type": "code",
   "execution_count": null,
   "metadata": {},
   "outputs": [],
   "source": []
  },
  {
   "cell_type": "code",
   "execution_count": 1,
   "metadata": {},
   "outputs": [],
   "source": [
    "import pandas as pd\n",
    "import os"
   ]
  },
  {
   "cell_type": "code",
   "execution_count": 2,
   "metadata": {},
   "outputs": [],
   "source": [
    "df = pd.read_hdf(\"F:\\\\DeepLearning\\\\data\\\\return_data\\\\df.h5\")"
   ]
  },
  {
   "cell_type": "code",
   "execution_count": 3,
   "metadata": {},
   "outputs": [],
   "source": [
    "df = df.set_index(['stock', 'date'])"
   ]
  },
  {
   "cell_type": "code",
   "execution_count": 8,
   "metadata": {},
   "outputs": [],
   "source": [
    "df = df.unstack().T"
   ]
  },
  {
   "cell_type": "code",
   "execution_count": 13,
   "metadata": {},
   "outputs": [],
   "source": [
    "df.index = df.index.levels[1]"
   ]
  },
  {
   "cell_type": "code",
   "execution_count": 15,
   "metadata": {},
   "outputs": [],
   "source": [
    "df.to_hdf(\"F:\\\\DeepLearning\\\\data\\\\return_data\\\\return_data.h5\", key = \"return_data\")"
   ]
  },
  {
   "cell_type": "code",
   "execution_count": 20,
   "metadata": {},
   "outputs": [],
   "source": [
    "dff = pd.read_hdf(\"F:\\\\DeepLearning\\\\data\\\\return_data.h5\")"
   ]
  },
  {
   "cell_type": "code",
   "execution_count": 27,
   "metadata": {},
   "outputs": [],
   "source": [
    "df['date'] = df['date'].apply(lambda x: int(x.strftime(\"%Y%m%d\")))"
   ]
  },
  {
   "cell_type": "code",
   "execution_count": 29,
   "metadata": {},
   "outputs": [],
   "source": [
    "df = df.set_index(\"date\")"
   ]
  },
  {
   "cell_type": "code",
   "execution_count": 31,
   "metadata": {},
   "outputs": [],
   "source": [
    "df = df.sort_index()"
   ]
  },
  {
   "cell_type": "code",
   "execution_count": 33,
   "metadata": {},
   "outputs": [],
   "source": [
    "df.to_hdf(\"F:\\\\DeepLearning\\\\data\\\\market_data\\\\market_data.h5\", key = \"market_data\")"
   ]
  },
  {
   "cell_type": "code",
   "execution_count": null,
   "metadata": {},
   "outputs": [],
   "source": []
  }
 ],
 "metadata": {
  "kernelspec": {
   "display_name": "Python 3",
   "language": "python",
   "name": "python3"
  },
  "language_info": {
   "codemirror_mode": {
    "name": "ipython",
    "version": 3
   },
   "file_extension": ".py",
   "mimetype": "text/x-python",
   "name": "python",
   "nbconvert_exporter": "python",
   "pygments_lexer": "ipython3",
   "version": "3.6.5"
  }
 },
 "nbformat": 4,
 "nbformat_minor": 2
}
